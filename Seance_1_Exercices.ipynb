{
 "cells": [
  {
   "cell_type": "markdown",
   "metadata": {},
   "source": [
    "# Formation Python École Pierre-Dupuy \n",
    "## Problèmes Séance 1\n",
    "\n",
    "### 1. Problèmes d'indexage : Indexer les listes afin que les deux listes affichées soient pareilles"
   ]
  },
  {
   "cell_type": "code",
   "execution_count": null,
   "metadata": {},
   "outputs": [],
   "source": [
    "array = ['a', 'b', 'c', 'd', 'e', 'f', 'g', 'h', 'i', 'j', 'k']\n",
    "\n",
    "print(array[::]) # Ajouter votre index ici\n",
    "print(['a', 'b', 'c'])"
   ]
  },
  {
   "cell_type": "code",
   "execution_count": null,
   "metadata": {},
   "outputs": [],
   "source": [
    "array = ['a', 'b', 'c', 'd', 'e', 'f', 'g', 'h', 'i', 'j', 'k']\n",
    "\n",
    "print(array[::]) # Ajouter votre index ici\n",
    "print(['d', 'e', 'f', 'g'])"
   ]
  },
  {
   "cell_type": "code",
   "execution_count": null,
   "metadata": {},
   "outputs": [],
   "source": [
    "array = ['a', 'b', 'c', 'd', 'e', 'f', 'g', 'h', 'i', 'j', 'k']\n",
    "\n",
    "print(array[::]) # Ajouter votre index ici\n",
    "print(['a', 'c', 'e', 'g', 'i', 'k'])"
   ]
  },
  {
   "cell_type": "code",
   "execution_count": null,
   "metadata": {},
   "outputs": [],
   "source": [
    "array = ['a', 'b', 'c', 'd', 'e', 'f', 'g', 'h', 'i', 'j', 'k']\n",
    "\n",
    "print(array[::]) # Ajouter votre index ici\n",
    "print(['b', 'e', 'h', 'k'])"
   ]
  },
  {
   "cell_type": "code",
   "execution_count": null,
   "metadata": {},
   "outputs": [],
   "source": [
    "array = ['a', 'b', 'c', 'd', 'e', 'f', 'g', 'h', 'i', 'j', 'k']\n",
    "\n",
    "print(array[::]) # Ajouter votre index ici\n",
    "print(['c', 'e'])"
   ]
  },
  {
   "cell_type": "code",
   "execution_count": null,
   "metadata": {},
   "outputs": [],
   "source": [
    "array = ['a', 'b', 'c', 'd', 'e', 'f', 'g', 'h', 'i', 'j', 'k']\n",
    "\n",
    "print(array[::]) # Ajouter votre index ici\n",
    "print(['h', 'j'])"
   ]
  },
  {
   "cell_type": "code",
   "execution_count": null,
   "metadata": {},
   "outputs": [],
   "source": [
    "array = ['a']*100 + ['b']\n",
    "\n",
    "print(array[::])\n",
    "print(['a', 'b'])"
   ]
  },
  {
   "cell_type": "code",
   "execution_count": null,
   "metadata": {},
   "outputs": [],
   "source": [
    "array = ['a']*200 + ['b']*200\n",
    "\n",
    "print(array[::])\n",
    "print(['a', 'b'])"
   ]
  },
  {
   "cell_type": "code",
   "execution_count": null,
   "metadata": {},
   "outputs": [],
   "source": [
    "# Bonus\n",
    "# Indice : essayez d'utiliser la fonction len(liste) avec l'opérateur //\n",
    "from random import randint\n",
    "r = randint(27, 39)\n",
    "array = ['a']*r + ['b']*r\n",
    "\n",
    "print(array[::])\n",
    "print(['a', 'b'])"
   ]
  },
  {
   "cell_type": "markdown",
   "metadata": {},
   "source": [
    "### 2. Problèmes de logique : Compléter le code selon les commentaires"
   ]
  },
  {
   "cell_type": "code",
   "execution_count": null,
   "metadata": {},
   "outputs": [],
   "source": [
    "# Problème 1: Étant donné un nombre, l'imprimer s'il est un multiple de 5\n",
    "nombre = 25\n",
    "\n",
    "# Complétez\n",
    "if nombre :\n",
    "    print"
   ]
  },
  {
   "cell_type": "code",
   "execution_count": null,
   "metadata": {},
   "outputs": [],
   "source": [
    "# Problème 2: Étant donné une liste imprimer son premier élément si son dernier élément est négatif et son deuxième\n",
    "# élément si son dernier élément positif (changez la liste pour tester les deux cas)\n",
    "liste = [1 ,3 , 5, 6, -1]\n",
    "\n",
    "if liste :\n",
    "    print\n",
    "elif liste :\n",
    "    print\n"
   ]
  },
  {
   "cell_type": "code",
   "execution_count": null,
   "metadata": {},
   "outputs": [],
   "source": [
    "# Problème 3 : En prenant un nom, si la première lettre du nom est un 'A' ou un 'M' imprimer le nom sinon imprimer la première lettre\n",
    "# Indice : Les 'strings' s'indexent comme les listes -> a = 'string', a[0] = 's'\n",
    "nom = 'Anabelle'\n",
    "\n",
    "if nom[] :\n",
    "    print\n",
    "elif nom[] :\n",
    "    print\n",
    "else :\n",
    "    print nom[]\n",
    "    "
   ]
  },
  {
   "cell_type": "code",
   "execution_count": null,
   "metadata": {},
   "outputs": [],
   "source": [
    "# Exécutez avant le problème 4\n",
    "nombre = 1"
   ]
  },
  {
   "cell_type": "code",
   "execution_count": null,
   "metadata": {},
   "outputs": [],
   "source": [
    "# Bonus\n",
    "# Probléme 4 : Fizz Buzz, En prenant les nombres de zéro à n si le nombre est un multiple de 3 imprimez Fizz, \n",
    "# si le nombre est un multiple de 5 imprimez Buzz et s'il est les deux imprimez FizzBuzz, s'il n'est aucun imprimez le nombre\n",
    "\n",
    "if (nombre) and (nombre) :\n",
    "    print\n",
    "    \n",
    "elif nombre:\n",
    "    print\n",
    "    \n",
    "elif nombre:\n",
    "    print\n",
    "else:\n",
    "    print\n",
    "\n",
    "nombre += 1  # Équivaut à nombre = nombre + 1\n",
    "# Exécutez la cellule une fois pour chaque nouveau nombre"
   ]
  },
  {
   "cell_type": "code",
   "execution_count": null,
   "metadata": {},
   "outputs": [],
   "source": []
  }
 ],
 "metadata": {
  "kernelspec": {
   "display_name": "Python 3",
   "language": "python",
   "name": "python3"
  },
  "language_info": {
   "codemirror_mode": {
    "name": "ipython",
    "version": 3
   },
   "file_extension": ".py",
   "mimetype": "text/x-python",
   "name": "python",
   "nbconvert_exporter": "python",
   "pygments_lexer": "ipython3",
   "version": "3.8.5"
  }
 },
 "nbformat": 4,
 "nbformat_minor": 4
}
