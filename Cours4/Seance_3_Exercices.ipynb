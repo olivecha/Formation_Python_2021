{
 "cells": [
  {
   "cell_type": "markdown",
   "metadata": {},
   "source": [
    "# Formation Python École Secondaire Pierre-Dupuy Séance 2\n",
    "## Exercices séance 3\n",
    "**Olivier Chabot, 17 novembre 2021**\n",
    "\n",
    "### Exercices 1 : Révision structure `if`"
   ]
  },
  {
   "cell_type": "code",
   "execution_count": null,
   "metadata": {},
   "outputs": [],
   "source": [
    "# 1.4 Complétez le code afin de faire un programme qui transforme les nombre en lettres\n",
    "# Le programme fonctionne seulement pour les chiffres plus petits que 5 :\n",
    "\n",
    "chiffre = 3\n",
    "\n",
    "if _____ == _ :\n",
    "    print('zéro')\n",
    "    \n",
    "elif _____ == _ :\n",
    "    print('un')\n",
    "    \n",
    "elif ______ == _ :\n",
    "    print('deux')\n",
    "    \n",
    "elif ______ == _ :\n",
    "    print('trois')\n",
    "    \n",
    "elif ______ == _ :\n",
    "    print('quatre')\n",
    "    \n",
    "elif ______ < _ :\n",
    "    print('Erreur le chiffre est négatif')\n",
    "    \n",
    "else:\n",
    "    print('Erreur le chiffre est trop grand')\n"
   ]
  },
  {
   "cell_type": "code",
   "execution_count": null,
   "metadata": {},
   "outputs": [],
   "source": [
    "# 1.5 Sauvez des lignes : En considérant le problème précédent et les deux variables suivantes\n",
    "# Réécrire le même programme en utilisant moins de lignes\n",
    "nombres_en_lettres = ['zero', 'un', 'deux', 'trois', 'quatre']\n",
    "nombre = 3\n",
    "\n",
    "if ______ >= 0 :\n",
    "    \n",
    "    if ______ < 5 :\n",
    "        print(______________[_______])\n",
    "    \n",
    "    else:\n",
    "        print('Le nombre est trop grand')\n",
    "        \n",
    "else:\n",
    "    print('Le nombre est négatif')\n",
    "        "
   ]
  },
  {
   "cell_type": "markdown",
   "metadata": {},
   "source": [
    "### Exercices 2 : Les boucles `for`"
   ]
  },
  {
   "cell_type": "code",
   "execution_count": null,
   "metadata": {},
   "outputs": [],
   "source": [
    "# 2.1 complétez le code afin imprimer chaque nom dans un liste :\n",
    "liste_des_eleves = ['Maxime', 'Damien', 'Camille', 'Daphnée', 'Margerite', 'Julien']\n",
    "\n",
    "for _____ in liste_des_eleves:\n",
    "    print(_____)"
   ]
  },
  {
   "cell_type": "code",
   "execution_count": null,
   "metadata": {},
   "outputs": [],
   "source": [
    "# 2.2 complétez le code afin d'imprimer les valeurs comme des pourcentages\n",
    "valeurs = [0.66, 0.89, 0.54, 0.78, 0.67]\n",
    "\n",
    "for _____ in ________:\n",
    "    print(______ * 100, ' %')"
   ]
  },
  {
   "cell_type": "code",
   "execution_count": null,
   "metadata": {},
   "outputs": [],
   "source": [
    "# 2.3 Prise des présences : Avec une liste des élèves présents et une liste d'élèves inscrits trouver\n",
    "# quels élèves sont absents.\n",
    "eleves_inscrits = ['Maxime', 'Damien', 'Camille', 'Daphnée', 'Margerite', 'Julien', 'Sol', 'Jean-Paul',\n",
    "                   'Samuel', 'Émilie', 'Rose', 'Annabelle']\n",
    "eleves_presents = ['Margerite', 'Julien', 'Sol', 'Jean-Paul','Samuel', 'Émilie', 'Rose', 'Annabelle']\n",
    "\n",
    "# Itération sur tout les éleves inscrits\n",
    "for _____ in ___________:\n",
    "    \n",
    "    # Vérifier si l'éleve inscrit est présent\n",
    "    if ____ in ____________:\n",
    "        print(____, 'Est présent')\n",
    "        \n",
    "    else :\n",
    "        print(_____, 'Est absent')\n",
    "        \n",
    "        "
   ]
  },
  {
   "cell_type": "code",
   "execution_count": null,
   "metadata": {},
   "outputs": [],
   "source": [
    "# 2.4 Effectuer la somme des valeurs d'une liste\n",
    "liste = [1, 4, 3, 5, 6, 4, 9]\n",
    "somme = 0\n",
    "\n",
    "for _____ in _____:\n",
    "    _____ = somme + _____\n",
    "    \n",
    "print(somme)"
   ]
  },
  {
   "cell_type": "markdown",
   "metadata": {},
   "source": [
    "### Les boucles `for` avancées"
   ]
  },
  {
   "cell_type": "code",
   "execution_count": null,
   "metadata": {},
   "outputs": [],
   "source": [
    "# Complétez la boucle qui ajout M. avant chaque nom \n",
    "\n",
    "mes_monsieurs = ['Dan', 'Michel', 'Mo']\n",
    "# Une liste vide\n",
    "mes_nouveaux_monsieurs = []\n",
    "\n",
    "# Fonctionne pas on doit ajouter à une nouvelle liste\n",
    "for _____ in ________:\n",
    "    __________.append('M. ' + ___________)\n",
    "    \n",
    "print(mes_nouveaux_monsieurs)"
   ]
  },
  {
   "cell_type": "code",
   "execution_count": null,
   "metadata": {},
   "outputs": [],
   "source": [
    "mes_nombres = [-3, 5, -1, 6, 9, -2]\n",
    "mes_nombres_absolus = []\n",
    "\n",
    "for chaque_nombre in mes_nombres:\n",
    "    if chaque_nombre < 0:\n",
    "        mes_nombres_absolus.append(-chaque_nombre)\n",
    "    elif chaque_nombre > 0:\n",
    "        mes_nombres_absolus.append(chaque_nombre)\n",
    "        \n",
    "print(mes_nombres_absolus)"
   ]
  },
  {
   "cell_type": "code",
   "execution_count": null,
   "metadata": {},
   "outputs": [],
   "source": [
    "# Complétez le code permettant de retirer les consonnes d'une liste de motes\n",
    "\n",
    "# Une liste de fruits\n",
    "mes_fruits = ['bananes', 'fraise', 'melon', 'figue']\n",
    "# Toutes les voyelles\n",
    "voyelles = ['a', 'e', 'i', 'o', 'u' 'y']\n",
    "# Une liste vide\n",
    "mes_fruits_sans_consonnes = []\n",
    "\n",
    "for ______ in mes_fruits:\n",
    "    # Une chaine de caractère vide\n",
    "    fruit_sans_consonnes = ''\n",
    "    # Pour chaque lettre dans chaque fruit\n",
    "    for _______ in _________:\n",
    "        # Si la lettre est dans les voyelles\n",
    "        if _________ in voyelles:\n",
    "            # Ajouter la lettre au mot sans consonnes\n",
    "            fruit_sans_consonnes.append(_______)\n",
    "    # Ajouter le mot sans consonnes à la liste de mots sans consonnes\n",
    "    mes_fruits_sans_consonnes.append(fruit_sans_consonnes)\n",
    "    \n",
    "    "
   ]
  },
  {
   "cell_type": "markdown",
   "metadata": {},
   "source": [
    "### Exercices boucles `while`"
   ]
  },
  {
   "cell_type": "code",
   "execution_count": null,
   "metadata": {},
   "outputs": [],
   "source": [
    "# Débuggez le code suivant afin que la boucle while s'arrête après avoir imprimé le message quelque fois.\n",
    "\n",
    "while True:\n",
    "    print('Quand es-ce que ça s\\'arrête ?')\n",
    "    \n",
    "else:\n",
    "    print('Ouf ça s\\'est arreter')\n",
    "    "
   ]
  },
  {
   "cell_type": "code",
   "execution_count": null,
   "metadata": {},
   "outputs": [],
   "source": [
    "# Écrire dans vos mots ce que le programme effectue à chaque ligne\n",
    "\n",
    "# Programme qui trouve le zéro du polynome y = x^3\n",
    "\n",
    "a = -100  # Assigne la valeur de -100 à la variable a\n",
    "b = 200  # Assigne la valeur de 200 à la variable b\n",
    "error = b - a  # Calcule la différence entre b et a et assigne le résultat à la variable error\n",
    "\n",
    "# Continuez....\n",
    "while error > 0.001:\n",
    "    # Point milieu\n",
    "    c = (b + a) / 2\n",
    "    # Equation du polynome\n",
    "    y = c ** 3\n",
    "    # redéfinir les variables b et a\n",
    "    if y < 0 :\n",
    "        a = c\n",
    "    elif y > 0:\n",
    "        b = c\n",
    "    # Répétition\n",
    "    error = b - a\n",
    "        \n",
    "print('f(x) : ', y)\n",
    "print('x : ', c)"
   ]
  },
  {
   "cell_type": "markdown",
   "metadata": {},
   "source": [
    "### BONUS"
   ]
  },
  {
   "cell_type": "code",
   "execution_count": 15,
   "metadata": {},
   "outputs": [
    {
     "data": {
      "text/plain": [
       "[[2, 12, 4, 4, 14],\n",
       " [5, 30, 10, 10, 35],\n",
       " [3, 18, 6, 6, 21],\n",
       " [1, 6, 2, 2, 7],\n",
       " [4, 24, 8, 8, 28]]"
      ]
     },
     "execution_count": 15,
     "metadata": {},
     "output_type": "execute_result"
    }
   ],
   "source": [
    "# 2.5 (Bonus) Produit matriciel de deux vecteurs\n",
    "# Voir plus bas\n",
    "\n",
    "v1 = [2, 5, 3, 1, 4]\n",
    "v2 = [1, 6, 2, 2, 7]\n",
    "n = 5  # Longeur des vecteurs\n",
    "M = [] # Résultat du produit\n",
    "\n",
    "for ___ in v1:\n",
    "    ligne = []\n",
    "    for ___ in v2:\n",
    "        ligne = ligne + [_______]\n",
    "    M = M + [ligne]\n",
    "    \n",
    "print([[2, 12, 4, 4, 14],\n",
    "       [5, 30, 10, 10, 35],\n",
    "       [3, 18, 6, 6, 21],\n",
    "       [1, 6, 2, 2, 7],\n",
    "       [4, 24, 8, 8, 28]])"
   ]
  },
  {
   "cell_type": "markdown",
   "metadata": {},
   "source": [
    "**Produit matriciel de deux vecteurs**\n",
    "\n",
    "$v_1$ : Un vecteur à n composantes\n",
    "\n",
    "$v_2$ : Un vecteur à n composantes\n",
    "\n",
    "$M$ : La matrice résultant du produit\n",
    "\n",
    "$M_{ij} = v_{1i} \\; v_{2j}$\n"
   ]
  },
  {
   "cell_type": "code",
   "execution_count": null,
   "metadata": {},
   "outputs": [],
   "source": []
  }
 ],
 "metadata": {
  "kernelspec": {
   "display_name": "Python 3 (ipykernel)",
   "language": "python",
   "name": "python3"
  },
  "language_info": {
   "codemirror_mode": {
    "name": "ipython",
    "version": 3
   },
   "file_extension": ".py",
   "mimetype": "text/x-python",
   "name": "python",
   "nbconvert_exporter": "python",
   "pygments_lexer": "ipython3",
   "version": "3.9.7"
  }
 },
 "nbformat": 4,
 "nbformat_minor": 4
}
