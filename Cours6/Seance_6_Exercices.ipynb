{
 "cells": [
  {
   "cell_type": "markdown",
   "metadata": {},
   "source": [
    "# Formation Python École Secondaire Pierre-Dupuy Séance 2\n",
    "## Exercices séance 6\n",
    "**Olivier Chabot, 9 février 2022**\n"
   ]
  },
  {
   "cell_type": "markdown",
   "metadata": {},
   "source": [
    "### Révision sur les opérateurs de base"
   ]
  },
  {
   "cell_type": "code",
   "execution_count": 17,
   "metadata": {},
   "outputs": [
    {
     "name": "stdout",
     "output_type": "stream",
     "text": [
      "2\n"
     ]
    }
   ],
   "source": [
    "# Addition\n",
    "print(1 + 1)"
   ]
  },
  {
   "cell_type": "code",
   "execution_count": 18,
   "metadata": {},
   "outputs": [
    {
     "name": "stdout",
     "output_type": "stream",
     "text": [
      "ab\n"
     ]
    }
   ],
   "source": [
    "# Addition de chaines de caractères\n",
    "print('a' + 'b')\n"
   ]
  },
  {
   "cell_type": "code",
   "execution_count": 19,
   "metadata": {},
   "outputs": [
    {
     "name": "stdout",
     "output_type": "stream",
     "text": [
      "[1, 2, 3, 4, 5]\n"
     ]
    }
   ],
   "source": [
    "# Addition de listes\n",
    "print([1, 2, 3] + [4, 5])"
   ]
  },
  {
   "cell_type": "code",
   "execution_count": 20,
   "metadata": {},
   "outputs": [
    {
     "name": "stdout",
     "output_type": "stream",
     "text": [
      "-1\n"
     ]
    }
   ],
   "source": [
    "# Soustraction\n",
    "print(4 - 5)"
   ]
  },
  {
   "cell_type": "code",
   "execution_count": 21,
   "metadata": {},
   "outputs": [
    {
     "name": "stdout",
     "output_type": "stream",
     "text": [
      "12\n"
     ]
    }
   ],
   "source": [
    "# Multiplication\n",
    "print(3*4)"
   ]
  },
  {
   "cell_type": "code",
   "execution_count": 22,
   "metadata": {},
   "outputs": [
    {
     "name": "stdout",
     "output_type": "stream",
     "text": [
      "zzzzzzzzzz\n"
     ]
    }
   ],
   "source": [
    "# Multiplications de chaines de caractères\n",
    "print('z'*10)"
   ]
  },
  {
   "cell_type": "code",
   "execution_count": 23,
   "metadata": {},
   "outputs": [
    {
     "name": "stdout",
     "output_type": "stream",
     "text": [
      "[0, 0, 0, 0, 0]\n"
     ]
    }
   ],
   "source": [
    "# Multiplication de listes\n",
    "print([0]*5)"
   ]
  },
  {
   "cell_type": "code",
   "execution_count": 24,
   "metadata": {},
   "outputs": [
    {
     "name": "stdout",
     "output_type": "stream",
     "text": [
      "3.3333333333333335\n"
     ]
    }
   ],
   "source": [
    "# divison 'float'\n",
    "print(10/3)"
   ]
  },
  {
   "cell_type": "code",
   "execution_count": 26,
   "metadata": {},
   "outputs": [
    {
     "name": "stdout",
     "output_type": "stream",
     "text": [
      "8\n",
      "2.0\n"
     ]
    }
   ],
   "source": [
    "# Exposant\n",
    "print(2**3)\n",
    "print(4**(1/2))"
   ]
  },
  {
   "cell_type": "code",
   "execution_count": 27,
   "metadata": {},
   "outputs": [
    {
     "name": "stdout",
     "output_type": "stream",
     "text": [
      "3\n"
     ]
    }
   ],
   "source": [
    "# Divison entière\n",
    "print(10//3)"
   ]
  },
  {
   "cell_type": "code",
   "execution_count": 28,
   "metadata": {},
   "outputs": [
    {
     "name": "stdout",
     "output_type": "stream",
     "text": [
      "1\n"
     ]
    }
   ],
   "source": [
    "# Reste (modulo)\n",
    "print(10%3)"
   ]
  },
  {
   "cell_type": "markdown",
   "metadata": {
    "tags": []
   },
   "source": [
    "### Révision sur les types"
   ]
  },
  {
   "cell_type": "code",
   "execution_count": 14,
   "metadata": {},
   "outputs": [
    {
     "name": "stdout",
     "output_type": "stream",
     "text": [
      "2 <class 'int'>\n",
      "2.0 <class 'float'>\n"
     ]
    }
   ],
   "source": [
    "# La différence entre int et float\n",
    "# Pourquoi 4/2 et 2 ne sont pas du même type ?\n",
    "print(2, type(2))\n",
    "print(4/2, type(4/2))"
   ]
  },
  {
   "cell_type": "code",
   "execution_count": 16,
   "metadata": {},
   "outputs": [
    {
     "name": "stdout",
     "output_type": "stream",
     "text": [
      "\n",
      "\n",
      "\n"
     ]
    }
   ],
   "source": [
    "# Les listes\n",
    "mes_lettres = ['a', 'b', 'c', 'd', 'e', 'f', 'g', 'h']\n",
    "# utilisez les crochets [] pour indexer la liste et obtenir la première lettre\n",
    "# imprimez le résultat\n",
    "print()\n",
    "# indexez la liste pour obtenir l'avant dernière lettre (avec un index négatif)\n",
    "# imprimez le résultat\n",
    "print()\n",
    "# indexez la liste pour obtenir une lettre sur deux (['a', 'c', 'e', 'g'])\n",
    "print()"
   ]
  },
  {
   "cell_type": "code",
   "execution_count": null,
   "metadata": {},
   "outputs": [],
   "source": [
    "# Opérations sur les listes\n",
    "mes_lettres = ['a', 'b', 'c', 'd', 'e', 'f', 'g', 'h']\n",
    "\n",
    "# changez la valeur de la première lettre pour 'z'\n",
    "'votre code'\n",
    "print(mes_lettres)\n",
    "\n",
    "# ajoutez la lettre 'i' à la fin de la liste en utilisant la méthode .append()\n",
    "'votre code'\n",
    "print(mes_lettres)\n",
    "\n",
    "# Ajouter les dernières lettres à la fin de la liste avec l'opérateur '+'\n",
    "mes_dernieres_lettres = ['x', 'y', 'z']\n",
    "'votre code'\n",
    "print(mes_lettres)"
   ]
  },
  {
   "cell_type": "code",
   "execution_count": null,
   "metadata": {},
   "outputs": [],
   "source": [
    "# Les chaines de caractères\n",
    "mes_caracteres = 'Prenom Nom'\n",
    "# Utiliser l'indexage [] pour assigner seulement les lettres du prénom à une nouvelle variable\n",
    "mon_prenom = mes_caracteres[]\n",
    "print(mon_prenom)\n",
    "# Utilisez l'opérateur pour combiner les lettres 'Prenom' avec votre nom de famille et un espace\n",
    "'Prenom'\n",
    "print(mon_nom)"
   ]
  },
  {
   "cell_type": "markdown",
   "metadata": {
    "tags": []
   },
   "source": [
    "### Révision opérateurs Booléens"
   ]
  },
  {
   "cell_type": "code",
   "execution_count": 6,
   "metadata": {},
   "outputs": [
    {
     "name": "stdout",
     "output_type": "stream",
     "text": [
      "\n"
     ]
    }
   ],
   "source": [
    "# Valider que le nombre est plus grand que 5\n",
    "# imprimez le résultat\n",
    "nombre = 7\n",
    "print()"
   ]
  },
  {
   "cell_type": "code",
   "execution_count": 7,
   "metadata": {},
   "outputs": [
    {
     "name": "stdout",
     "output_type": "stream",
     "text": [
      "\n"
     ]
    }
   ],
   "source": [
    "# Vérifiez que le nombre n'est pas égal à 3\n",
    "# imprimez le résultat\n",
    "nombre = 2\n",
    "print()"
   ]
  },
  {
   "cell_type": "code",
   "execution_count": 8,
   "metadata": {},
   "outputs": [
    {
     "data": {
      "text/plain": [
       "False"
      ]
     },
     "execution_count": 8,
     "metadata": {},
     "output_type": "execute_result"
    }
   ],
   "source": [
    "# Expliquez pourquoi le résultat est faux\n",
    "# Proposez une alternative pour valider que le résultat de la division est égal à 2\n",
    "4/2.000000000000001 == 2"
   ]
  },
  {
   "cell_type": "markdown",
   "metadata": {
    "tags": []
   },
   "source": [
    "### Révision de la structure `if`"
   ]
  },
  {
   "cell_type": "code",
   "execution_count": 29,
   "metadata": {},
   "outputs": [
    {
     "name": "stdout",
     "output_type": "stream",
     "text": [
      "Trop bas\n"
     ]
    }
   ],
   "source": [
    "# Exemple : indices pour deviner un nombre\n",
    "essai = 3\n",
    "nombre_a_deviner = 10\n",
    "\n",
    "if essai < nombre_a_deviner:\n",
    "    print('Trop bas')\n",
    "    \n",
    "elif essai > nombre_a_deviner:\n",
    "    print('Trop haut')\n",
    "\n",
    "elif essai == nombre_a_deviner:\n",
    "    print('Réussi')\n",
    "    "
   ]
  },
  {
   "cell_type": "code",
   "execution_count": null,
   "metadata": {},
   "outputs": [],
   "source": [
    "# Écrire une structure if imprimant un nombre en lettre s'il est entre 0 et 5 et un nombre en chiffres autrement\n",
    "nombre = 4\n",
    "\n",
    "if  == 0:\n",
    "    print('zero')\n",
    "\n",
    "elif   :\n",
    "    print('un')\n",
    "\n",
    "el  \n",
    "    print('deux')\n",
    "    \n",
    "el\n",
    "    print('trois')\n",
    "    \n",
    "e i\n",
    "    print('quatre')\n",
    "    \n",
    "e  f\n",
    "    print('cinq')\n",
    "    \n",
    "e\n",
    "    print()"
   ]
  },
  {
   "cell_type": "markdown",
   "metadata": {},
   "source": [
    "### 1. Révision boucle `for` \n",
    "\n",
    "Complétez la boucle `for` afin de transformer la liste `mes_nombres` en sa valeur absolue\n",
    "\n",
    "1. Se baser sur le pseudo code suivant pour compléter la boucle\n",
    "    - Pour chaque nombre dans `mes_nombres`\n",
    "    - Si le nombre est positif on fait rien\n",
    "    - Si il est négatif on change son signe\n",
    "    - Imprimer une liste avec les nombres strictement positifs"
   ]
  },
  {
   "cell_type": "code",
   "execution_count": null,
   "metadata": {},
   "outputs": [],
   "source": [
    "mes_nombres = [-3, 5, -1, 6, 9, -2]\n",
    "mes_nombres_positifs = []\n",
    "\n",
    "for  in :\n",
    "    \n",
    "    if :\n",
    "        .append()\n",
    "    elif :\n",
    "        .append()\n",
    "        \n",
    "print()"
   ]
  },
  {
   "cell_type": "markdown",
   "metadata": {},
   "source": [
    "### 2. Exercice boucles `while`\n",
    "\n",
    "Complétez la boucle while afin de compter combien d'essai doit ont faire avant de tomber sur un nombre entier au hazard dans un certain interval.\n",
    "\n",
    "1. Vous devez importer la fonction randint du module random.\n",
    "\n",
    "2. Vous devez écrire un programme qui effectue le pseudo code suivant à partir du squelette plus bas\n",
    "    - Choisir un chiffre entre  1 et 10\n",
    "    - TANT QUE l'ordinateur n'as pas générer le même chiffre entre 1 et 10\n",
    "    - réessayer et ajouter +1 au nombre d'essais\n",
    "    - Imprimer la variable du nombre d'essais `i` \n",
    "    \n",
    "3. Utilisez l'aide de la fonction randint afin de vous aider (`help(randint)`)"
   ]
  },
  {
   "cell_type": "code",
   "execution_count": null,
   "metadata": {},
   "outputs": [],
   "source": [
    "# 1.\n",
    "from _ import _\n",
    "\n",
    "print(randint(1, 3))"
   ]
  },
  {
   "cell_type": "code",
   "execution_count": null,
   "metadata": {},
   "outputs": [],
   "source": [
    "# 2.\n",
    "\n",
    "_____ = randint()\n",
    "\n",
    "while :\n",
    "    _____ = randint()\n",
    "\n",
    "    \n",
    "print(i, 'essais ont été fait)"
   ]
  },
  {
   "cell_type": "code",
   "execution_count": null,
   "metadata": {},
   "outputs": [],
   "source": [
    "# 3.\n",
    "help(randint)"
   ]
  },
  {
   "cell_type": "markdown",
   "metadata": {},
   "source": [
    "### 3. Exercice de débrouillardise en programmation\n",
    "\n",
    "Débuggez le code suivant.\n",
    "\n",
    "1. googlez l'erreur obtenue afin de trouver l'erreur et la corriger:\n",
    "\n",
    "**Google:** `AttributeError: 'str' object has no attribute 'append'` "
   ]
  },
  {
   "cell_type": "code",
   "execution_count": 6,
   "metadata": {},
   "outputs": [
    {
     "ename": "AttributeError",
     "evalue": "'str' object has no attribute 'append'",
     "output_type": "error",
     "traceback": [
      "\u001b[0;31m---------------------------------------------------------------------------\u001b[0m",
      "\u001b[0;31mAttributeError\u001b[0m                            Traceback (most recent call last)",
      "\u001b[0;32m/var/folders/ds/4f0djnld2v1fy3bn2nnrr5hw0000gn/T/ipykernel_26733/2100767317.py\u001b[0m in \u001b[0;36m<module>\u001b[0;34m\u001b[0m\n\u001b[1;32m      1\u001b[0m \u001b[0mmy_string\u001b[0m \u001b[0;34m=\u001b[0m \u001b[0;34m'aeio'\u001b[0m\u001b[0;34m\u001b[0m\u001b[0;34m\u001b[0m\u001b[0m\n\u001b[1;32m      2\u001b[0m \u001b[0;34m\u001b[0m\u001b[0m\n\u001b[0;32m----> 3\u001b[0;31m \u001b[0mmy_string\u001b[0m\u001b[0;34m.\u001b[0m\u001b[0mappend\u001b[0m\u001b[0;34m(\u001b[0m\u001b[0;34m'y'\u001b[0m\u001b[0;34m)\u001b[0m\u001b[0;34m\u001b[0m\u001b[0;34m\u001b[0m\u001b[0m\n\u001b[0m",
      "\u001b[0;31mAttributeError\u001b[0m: 'str' object has no attribute 'append'"
     ]
    }
   ],
   "source": [
    "my_string = 'aeio'\n",
    "\n",
    "my_string.append('y')\n",
    "\n",
    "print(my_string)"
   ]
  },
  {
   "cell_type": "code",
   "execution_count": null,
   "metadata": {},
   "outputs": [],
   "source": []
  }
 ],
 "metadata": {
  "kernelspec": {
   "display_name": "Python 3 (ipykernel)",
   "language": "python",
   "name": "python3"
  },
  "language_info": {
   "codemirror_mode": {
    "name": "ipython",
    "version": 3
   },
   "file_extension": ".py",
   "mimetype": "text/x-python",
   "name": "python",
   "nbconvert_exporter": "python",
   "pygments_lexer": "ipython3",
   "version": "3.9.7"
  }
 },
 "nbformat": 4,
 "nbformat_minor": 4
}
