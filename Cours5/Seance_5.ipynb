{
 "cells": [
  {
   "cell_type": "markdown",
   "metadata": {
    "tags": []
   },
   "source": [
    "# Formation Python École Secondaire Pierre-Dupuy Séance 4\n",
    "**Olivier Chabot, 8 décembre 2021**\n"
   ]
  },
  {
   "cell_type": "markdown",
   "metadata": {},
   "source": [
    "### Exemple 5.1 : Les fonctions simples"
   ]
  },
  {
   "cell_type": "code",
   "execution_count": 1,
   "metadata": {},
   "outputs": [
    {
     "data": {
      "text/plain": [
       "5"
      ]
     },
     "execution_count": 1,
     "metadata": {},
     "output_type": "execute_result"
    }
   ],
   "source": [
    "# Exemple de fonction simple :\n",
    "\n",
    "def addition(a, b):\n",
    "    \"\"\"\n",
    "    Fonction qui additionne deux chiffes\n",
    "    \"\"\"\n",
    "    return a + b\n",
    "\n",
    "addition(2, 3)\n",
    "\n",
    "# Essayez d'ajouter un argument à la fonction"
   ]
  },
  {
   "cell_type": "code",
   "execution_count": null,
   "metadata": {},
   "outputs": [],
   "source": [
    "# Les arguments peuvent être n'importe quoi\n",
    "def somme(liste):\n",
    "    \"\"\"\n",
    "    Fonction qui calcule la somme d'une liste\n",
    "    \"\"\"\n",
    "    S = 0\n",
    "    for item in liste:\n",
    "        S += item\n",
    "    return S\n",
    "\n",
    "somme([1, 2, 3, 4, 5])\n",
    "\n",
    "# En se basant sur la fonction somme essayez de faire la fonction 'moyenne'\n",
    "\n"
   ]
  },
  {
   "cell_type": "code",
   "execution_count": null,
   "metadata": {},
   "outputs": [],
   "source": [
    "# Les fonctions peuvent appeller des fonctions déjà définies\n",
    "def moyenne(liste):\n",
    "    \"\"\"\n",
    "    Fonction qui calcule la moyenne d'une liste\n",
    "    \"\"\"\n",
    "    S = somme(liste)\n",
    "    n = len(liste)\n",
    "    return S/n\n",
    "\n",
    "moyenne([1, 2, 3, 4, 5])"
   ]
  },
  {
   "cell_type": "markdown",
   "metadata": {},
   "source": [
    "### Exemple 5.2 : Les fonctions sont des objets"
   ]
  },
  {
   "cell_type": "code",
   "execution_count": null,
   "metadata": {},
   "outputs": [],
   "source": [
    "# Les fonctions sont des variables et on peut changer leur nom, les mettre dans une liste, etc...\n",
    "\n",
    "def fonction_avec_un_nom_beaucoup_trop_long(x):\n",
    "    \"\"\"\n",
    "    Retourne la valeur de x au carré\n",
    "    \"\"\"\n",
    "    return x ** 2\n",
    "\n",
    "f = fonction_avec_un_nom_beaucoup_trop_long  # Attention ne pas mettre de parenthèses \n",
    "f(2)"
   ]
  },
  {
   "cell_type": "code",
   "execution_count": null,
   "metadata": {},
   "outputs": [],
   "source": [
    "# On peut jouer avec les fonctions comme des variables\n",
    "\n",
    "def f1(x):\n",
    "    return 2*x + 3\n",
    "\n",
    "def f2(x):\n",
    "    return x**2\n",
    "\n",
    "def f3(x):\n",
    "    return x**3\n",
    "\n",
    "def f4(x):\n",
    "    return 1/x\n",
    "\n",
    "mes_fonctions = [f1, f2, f3, f4]\n",
    "\n",
    "x = 5\n",
    "mes_fonctions[2](x) ## Ouf pas facile à comprendre"
   ]
  },
  {
   "cell_type": "code",
   "execution_count": null,
   "metadata": {},
   "outputs": [],
   "source": [
    "# Les fonctions retournent toujours quelque chose (possiblement None)\n",
    "\n",
    "def fonction_sans_return():\n",
    "    \"\"\"\n",
    "    Fonction qui ne fait rien\n",
    "    \"\"\"\n",
    "    pass\n",
    "\n",
    "sortie = fonction_sans_return()\n",
    "type(sortie)  # Wow un nouveau type"
   ]
  },
  {
   "cell_type": "markdown",
   "metadata": {},
   "source": [
    "### Exemple 5.3 : Le scope des fonctions"
   ]
  },
  {
   "cell_type": "code",
   "execution_count": null,
   "metadata": {},
   "outputs": [],
   "source": [
    "# Ce qui se passe dans les fonctions reste dans les fonctions\n",
    "b = 10\n",
    "\n",
    "def fonction_qui_change_rien():\n",
    "    b = 11\n",
    "    \n",
    "fonction_qui_change_rien()\n",
    "b"
   ]
  },
  {
   "cell_type": "code",
   "execution_count": null,
   "metadata": {},
   "outputs": [],
   "source": [
    "# Mais les fonctions ont accès à leur extérieur\n",
    "b = 10\n",
    "\n",
    "def fonction_qui_trouve_b():\n",
    "    \"\"\"\n",
    "    Vraiment pas une bonne idée de fonction\n",
    "    \"\"\"\n",
    "    return b\n",
    "\n",
    "fonction_qui_trouve_b()"
   ]
  },
  {
   "cell_type": "code",
   "execution_count": null,
   "metadata": {},
   "outputs": [],
   "source": [
    "# Les fonctions peuvent s'appeller elles-mêmes (pas facile)\n",
    "\n",
    "def factorial(x):\n",
    "    \"\"\"\n",
    "    Fonction qui donne la factorielle de x\n",
    "    \"\"\"\n",
    "    if x == 1:\n",
    "        return 1\n",
    "    else:\n",
    "        return (x * factorial(x-1))\n",
    "    \n",
    "factorial(3)"
   ]
  },
  {
   "cell_type": "code",
   "execution_count": null,
   "metadata": {},
   "outputs": [],
   "source": [
    "# Les fonctions peuvent créer des fonctions (wow)\n",
    "\n",
    "def createur_de_fonctions(a, b):\n",
    "    \"\"\"\n",
    "    Fonction qui crée une fonction de la droite a*x + b\n",
    "    \"\"\"\n",
    "\n",
    "    def fonction(x):\n",
    "        return a*x + b\n",
    "    \n",
    "    return fonction\n",
    "\n",
    "f = createur_de_fonctions(3, 5)\n",
    "f(10)"
   ]
  },
  {
   "cell_type": "markdown",
   "metadata": {},
   "source": [
    "### Example 5.4 : Arguments mot clefs"
   ]
  },
  {
   "cell_type": "code",
   "execution_count": null,
   "metadata": {},
   "outputs": [],
   "source": [
    "def salutation(phrase = 'Bonjour', nom=''):\n",
    "    \"\"\"\n",
    "    Fonction qui salue quelqu'un\n",
    "    \"\"\"\n",
    "    print(phrase + ' ' + nom + ' !')\n",
    "    \n",
    "salutation(nom='Karine', phrase='Salut')"
   ]
  },
  {
   "cell_type": "code",
   "execution_count": null,
   "metadata": {},
   "outputs": [],
   "source": [
    "def ponctuateur(phrase, ponctuation='.'):\n",
    "    return phrase + ponctuation\n",
    "\n",
    "ponctuateur()"
   ]
  },
  {
   "cell_type": "code",
   "execution_count": null,
   "metadata": {},
   "outputs": [],
   "source": [
    "ponctuateur('Bon matin la vie')"
   ]
  },
  {
   "cell_type": "code",
   "execution_count": null,
   "metadata": {},
   "outputs": [],
   "source": [
    "ponctuateur('Joyeux Noel', ponctuation='!')"
   ]
  },
  {
   "cell_type": "markdown",
   "metadata": {},
   "source": [
    "### Exemple 5.5 : Importer une fonction"
   ]
  },
  {
   "cell_type": "code",
   "execution_count": 41,
   "metadata": {},
   "outputs": [
    {
     "data": {
      "text/plain": [
       "1"
      ]
     },
     "execution_count": 41,
     "metadata": {},
     "output_type": "execute_result"
    }
   ],
   "source": [
    "# Du module random importer la fonction randint sous le nom entier_aleatoire\n",
    "from random import randint as entier_aleatoire\n",
    "print(entier_aleatoire(1, 2))"
   ]
  },
  {
   "cell_type": "code",
   "execution_count": 43,
   "metadata": {},
   "outputs": [
    {
     "name": "stdout",
     "output_type": "stream",
     "text": [
      "3\n"
     ]
    }
   ],
   "source": [
    "# importer le module random sous le nom r\n",
    "import random as r\n",
    "print(r.randint(3, 5))"
   ]
  },
  {
   "cell_type": "markdown",
   "metadata": {},
   "source": [
    "### Jeu 2 : Bonhomme pendu"
   ]
  },
  {
   "cell_type": "code",
   "execution_count": null,
   "metadata": {},
   "outputs": [],
   "source": [
    "from random import randint\n",
    "help(randint)"
   ]
  },
  {
   "cell_type": "code",
   "execution_count": null,
   "metadata": {},
   "outputs": [],
   "source": [
    "def mot_au_hazard():\n",
    "    \"\"\"\n",
    "    Fonction retournant un mot au hazard\n",
    "    \"\"\"\n",
    "    liste_de_mots = ['dauphin', 'plage', 'citron', 'fruit', 'vendeur', 'tigre']\n",
    "    i = randint(0, len(liste_de_mots) - 1)\n",
    "    return liste_de_mots[i]\n",
    "\n",
    "mot_au_hazard()"
   ]
  },
  {
   "cell_type": "code",
   "execution_count": null,
   "metadata": {},
   "outputs": [],
   "source": [
    "def trouver_lettre(lettre, mot):\n",
    "    \"\"\"\n",
    "    Find if a letter is in a word\n",
    "    returns the indexes of the letter\n",
    "    \"\"\"\n",
    "    i = 0\n",
    "    lettre_indexes = []\n",
    "    for character in mot:\n",
    "        if character == lettre:\n",
    "            lettre_indexes.append(i)\n",
    "        i += 1\n",
    "    return lettre_indexes\n",
    "\n",
    "find_letter('e', 'evenement')"
   ]
  },
  {
   "cell_type": "code",
   "execution_count": null,
   "metadata": {},
   "outputs": [],
   "source": [
    "def print_liste(liste):\n",
    "    \"\"\"\n",
    "    Fonction imprimant une liste en une ligne avec des espaces\n",
    "    \"\"\"\n",
    "    string = liste[0]\n",
    "    for item in liste[1:]:\n",
    "        string += (' ' + item)\n",
    "        \n",
    "    print(string)\n",
    "    print('\\n')"
   ]
  },
  {
   "cell_type": "code",
   "execution_count": null,
   "metadata": {},
   "outputs": [],
   "source": [
    "def bonhomme_pendu(chances=None):\n",
    "    \"\"\"\n",
    "    Fonction pour jouer au bonhomme pendu\n",
    "    \"\"\"\n",
    "    # Prendre un mot au hazard\n",
    "    mot = mot_au_hazard()\n",
    "    mot_print = ['_']*len(mot)\n",
    "    if chances is None:\n",
    "        chances = len(mot)*2\n",
    "    \n",
    "    # Print the header\n",
    "    print('Bienvenue au jeu du bonhomme pendu')\n",
    "    print('Votre mot contient ', len(mot), ' Lettres')\n",
    "    print('Vous avez ', chances, ' chances pour le deviner')\n",
    "    print('\\n')\n",
    "    # Imprimer le mot vide\n",
    "    print_liste(mot_print)\n",
    "    \n",
    "    while True:\n",
    "        # Demander une lettre\n",
    "        lettre = input('Entrez votre lettre : ')\n",
    "        print('\\n')\n",
    "        # Trouver si la lettre est dans le mot\n",
    "        indexes = trouver_lettre(lettre, mot)\n",
    "        # Remplacer les barre par la lettre là ou elle est dans le mot\n",
    "        for i in indexes:\n",
    "            mot_print[i] = lettre\n",
    "            \n",
    "        # Imprimer le mot mis à jour\n",
    "        print_liste(mot_print)\n",
    "        \n",
    "        if len(indexes) == 0:\n",
    "            # La lettre n'était pas dans le mot\n",
    "            chances -= 1\n",
    "            print(\"La lettre n'est pas dans le mot, il vous reste \", chances, ' chances...')\n",
    "            print('\\n')\n",
    "        \n",
    "        if '_' not in mot_print:\n",
    "            print('Vous avez réussi !')\n",
    "            break\n",
    "            \n",
    "        if chances == 0:\n",
    "            print('Vous avez perdu :(')\n",
    "            break"
   ]
  },
  {
   "cell_type": "code",
   "execution_count": null,
   "metadata": {},
   "outputs": [],
   "source": [
    "from jeux import bonhomme_pendu\n",
    "bonhomme_pendu"
   ]
  }
 ],
 "metadata": {
  "kernelspec": {
   "display_name": "Python 3 (ipykernel)",
   "language": "python",
   "name": "python3"
  },
  "language_info": {
   "codemirror_mode": {
    "name": "ipython",
    "version": 3
   },
   "file_extension": ".py",
   "mimetype": "text/x-python",
   "name": "python",
   "nbconvert_exporter": "python",
   "pygments_lexer": "ipython3",
   "version": "3.8.12"
  }
 },
 "nbformat": 4,
 "nbformat_minor": 4
}
