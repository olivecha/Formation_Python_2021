{
 "cells": [
  {
   "cell_type": "markdown",
   "metadata": {},
   "source": [
    "# Formation Python École Secondaire Pierre-Dupuy Séance 2\n",
    "## Exercices séance 5\n",
    "**Olivier Chabot, 17 novembre 2021**\n"
   ]
  },
  {
   "cell_type": "markdown",
   "metadata": {},
   "source": [
    "### 1. Révision boucle `for` \n",
    "\n",
    "Complétez la boucle `for` afin de transformer la liste `mes_nombres` en sa valeur absolue"
   ]
  },
  {
   "cell_type": "code",
   "execution_count": null,
   "metadata": {},
   "outputs": [],
   "source": [
    "mes_nombres = [-3, 5, -1, 6, 9, -2]\n",
    "\n",
    "for  in :\n",
    "    \n",
    "    if :\n",
    "        .append()\n",
    "    elif :\n",
    "        .append()\n",
    "        \n"
   ]
  },
  {
   "cell_type": "markdown",
   "metadata": {},
   "source": [
    "### 2. Exercice boucles `while`\n",
    "\n",
    "Complétez la boucle while afin de compter combien d'essai doit ont faire avant de tomber sur un nombre entier au hazard dans un certain interval.\n",
    "\n",
    "1. Vous devez importer la fonction randint du module random.\n",
    "\n",
    "2. Vous devez écrire un programme qui effectue le pseudo code suivant à partir du squelette plus bas\n",
    "    - Choisir un chiffre entre  1 et 10\n",
    "    - TANT QUE l'ordinateur n'as pas générer le même chiffre entre 1 et 10\n",
    "    - réessayer et ajouter +1 au nombre d'essais\n",
    "    - Imprimer la variable du nombre d'essais `i` \n",
    "    \n",
    "3. Utilisez l'aide de la fonction randint afin de vous aider (`help(randint)`)"
   ]
  },
  {
   "cell_type": "code",
   "execution_count": null,
   "metadata": {},
   "outputs": [],
   "source": [
    "# 1.\n",
    "from _ import _\n",
    "\n",
    "print(randint(1, 3))"
   ]
  },
  {
   "cell_type": "code",
   "execution_count": null,
   "metadata": {},
   "outputs": [],
   "source": [
    "# 2.\n",
    "\n",
    "_____ = randint()\n",
    "\n",
    "while :\n",
    "    _____ = randint()\n",
    "\n",
    "    \n",
    "print(i, 'essais ont été fait)"
   ]
  },
  {
   "cell_type": "code",
   "execution_count": null,
   "metadata": {},
   "outputs": [],
   "source": [
    "# 3.\n",
    "help(randint)"
   ]
  },
  {
   "cell_type": "markdown",
   "metadata": {},
   "source": [
    "### 3. Exercice de débrouillardise en programmation\n",
    "\n",
    "Débuggez le code suivant.\n",
    "\n",
    "1. googlez l'erreur obtenue afin de trouver l'erreur et la corriger:\n",
    "\n",
    "**Google:** `AttributeError: 'str' object has no attribute 'append'` "
   ]
  },
  {
   "cell_type": "code",
   "execution_count": 6,
   "metadata": {},
   "outputs": [
    {
     "ename": "AttributeError",
     "evalue": "'str' object has no attribute 'append'",
     "output_type": "error",
     "traceback": [
      "\u001b[0;31m---------------------------------------------------------------------------\u001b[0m",
      "\u001b[0;31mAttributeError\u001b[0m                            Traceback (most recent call last)",
      "\u001b[0;32m/var/folders/ds/4f0djnld2v1fy3bn2nnrr5hw0000gn/T/ipykernel_26733/2100767317.py\u001b[0m in \u001b[0;36m<module>\u001b[0;34m\u001b[0m\n\u001b[1;32m      1\u001b[0m \u001b[0mmy_string\u001b[0m \u001b[0;34m=\u001b[0m \u001b[0;34m'aeio'\u001b[0m\u001b[0;34m\u001b[0m\u001b[0;34m\u001b[0m\u001b[0m\n\u001b[1;32m      2\u001b[0m \u001b[0;34m\u001b[0m\u001b[0m\n\u001b[0;32m----> 3\u001b[0;31m \u001b[0mmy_string\u001b[0m\u001b[0;34m.\u001b[0m\u001b[0mappend\u001b[0m\u001b[0;34m(\u001b[0m\u001b[0;34m'y'\u001b[0m\u001b[0;34m)\u001b[0m\u001b[0;34m\u001b[0m\u001b[0;34m\u001b[0m\u001b[0m\n\u001b[0m",
      "\u001b[0;31mAttributeError\u001b[0m: 'str' object has no attribute 'append'"
     ]
    }
   ],
   "source": [
    "my_string = 'aeio'\n",
    "\n",
    "my_string.append('y')\n",
    "\n",
    "print(my_string)"
   ]
  },
  {
   "cell_type": "code",
   "execution_count": null,
   "metadata": {},
   "outputs": [],
   "source": []
  }
 ],
 "metadata": {
  "kernelspec": {
   "display_name": "Python 3 (ipykernel)",
   "language": "python",
   "name": "python3"
  },
  "language_info": {
   "codemirror_mode": {
    "name": "ipython",
    "version": 3
   },
   "file_extension": ".py",
   "mimetype": "text/x-python",
   "name": "python",
   "nbconvert_exporter": "python",
   "pygments_lexer": "ipython3",
   "version": "3.8.12"
  }
 },
 "nbformat": 4,
 "nbformat_minor": 4
}
