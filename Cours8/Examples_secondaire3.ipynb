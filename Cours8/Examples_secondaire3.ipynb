{
 "cells": [
  {
   "cell_type": "markdown",
   "id": "abc0cde1-47ff-4cb2-9605-a34055e724d0",
   "metadata": {},
   "source": [
    "## Arithmétique\n",
    "\n",
    "### Nombre rationels"
   ]
  },
  {
   "cell_type": "code",
   "execution_count": 38,
   "id": "b6fc1489-9e48-4a54-a084-d7cf371fcd19",
   "metadata": {},
   "outputs": [
    {
     "name": "stdout",
     "output_type": "stream",
     "text": [
      "1547\n",
      "1250\n",
      "1.2376\n"
     ]
    }
   ],
   "source": [
    "# Étant donné un nombre rationnel trouver le plus petit ratio a/b permettant de l'exprimer\n",
    "\n",
    "def plus_petit_ratio(nombre):\n",
    "    b = 1\n",
    "    a = 1\n",
    "    while (a/b) != nombre:\n",
    "        if (a/b) < nombre:\n",
    "            a = a + 1\n",
    "        elif (a/b) > nombre:\n",
    "            b = b + 1\n",
    "    return a, b\n",
    "\n",
    "a, b = plus_petit_ratio(1.2376)   \n",
    "\n",
    "print(a)\n",
    "print(b)\n",
    "print(a/b)"
   ]
  },
  {
   "cell_type": "markdown",
   "id": "214f59e1-a6c5-4349-9b2f-2acf973a2a4e",
   "metadata": {},
   "source": [
    "### Nombre irrationnels"
   ]
  },
  {
   "cell_type": "code",
   "execution_count": 59,
   "id": "1f271b80-d9a0-446f-9c0c-070d10ac66fb",
   "metadata": {},
   "outputs": [
    {
     "name": "stdout",
     "output_type": "stream",
     "text": [
      "1.4142135623730951\n",
      "3.141592653589793\n"
     ]
    }
   ],
   "source": [
    "# Comment les nombres irrationels sont représentés par l'ordinateur\n",
    "# (nombre limité d'espace)\n",
    "print(2**(1/2))\n",
    "\n",
    "from math import pi\n",
    "print(pi)\n"
   ]
  },
  {
   "cell_type": "code",
   "execution_count": 69,
   "id": "4dbf3966-3f33-4fbb-bfa7-cf4308b3e075",
   "metadata": {},
   "outputs": [
    {
     "name": "stdout",
     "output_type": "stream",
     "text": [
      "Le nombre est probablement irrationnel\n",
      "3795\n",
      "1208\n",
      "3.1415562913907285\n"
     ]
    }
   ],
   "source": [
    "# modifier la fonction précédente pour qu'elle donne un message d'erreur dans le cas ou le nombre\n",
    "# est irrationnel\n",
    "\n",
    "nombre = pi\n",
    "\n",
    "def plus_petit_ratio2(nombre):\n",
    "    b = 1\n",
    "    a = 1\n",
    "    compteur = 0\n",
    "    while (a/b) != nombre:\n",
    "        compteur += 1\n",
    "        if (a/b) < nombre:\n",
    "            a = a + 1\n",
    "        elif (a/b) > nombre:\n",
    "            b = b + 1\n",
    "        if compteur > 5000:\n",
    "            print('Le nombre est probablement irrationnel')\n",
    "            break\n",
    "    return a, b\n",
    "        \n",
    "        \n",
    "a, b = plus_petit_ratio2(nombre)   \n",
    "\n",
    "print(a)\n",
    "print(b)\n",
    "print(a/b)\n"
   ]
  },
  {
   "cell_type": "code",
   "execution_count": 29,
   "id": "e0262b2a-2c3f-4b90-b4ff-6164b293222c",
   "metadata": {},
   "outputs": [
    {
     "name": "stdout",
     "output_type": "stream",
     "text": [
      " le nombre 1 est plus grand \n"
     ]
    }
   ],
   "source": [
    "# Faire une fonction pour ordonner les nombre irrationnels (niveau 2)\n",
    "\n",
    "def ordonner(nombre1, nombre2): \n",
    "    if nombre1 > nombre2:\n",
    "        print(' le nombre 1 est plus grand ')\n",
    "    elif nombre1 < nombre2:\n",
    "        print(' le nombre 2 est plus grand ')\n",
    "    else:\n",
    "        print(' les nombres sont égaux')\n",
    "\n",
    "ordonner(pi, 2**(1/2))"
   ]
  },
  {
   "cell_type": "markdown",
   "id": "5c3850ed-1e6d-4f40-93b2-000fadb4b99e",
   "metadata": {},
   "source": [
    "### Ensembles de nombres"
   ]
  },
  {
   "cell_type": "code",
   "execution_count": 1,
   "id": "67a283c0-c232-49f3-898a-d5be4db2f614",
   "metadata": {},
   "outputs": [
    {
     "name": "stdout",
     "output_type": "stream",
     "text": [
      "[3, 5, 7, 9]\n",
      "[4, 8, 12, 16, 20, 24, 28, 32, 36, 40, 44, 48, 52, 56, 60, 64, 68, 72, 76, 80, 84, 88, 92, 96, 100]\n"
     ]
    }
   ],
   "source": [
    "# Exercice pour comprendre la fonction range() de python\n",
    "from support import *\n",
    "\n",
    "# L'ensemble des nombres naturels impairs compris entre 2 et 10.\n",
    "print(range(3, 10, 2))\n",
    "\n",
    "# L'ensemble des multiples de 4 compris entre  3 et  101.\n",
    "print(range(4, 101, 4))"
   ]
  },
  {
   "cell_type": "code",
   "execution_count": 3,
   "id": "5db5fc95-e5a2-4087-a036-2e16dda6a96e",
   "metadata": {},
   "outputs": [
    {
     "name": "stdout",
     "output_type": "stream",
     "text": [
      "Je suis un nombre irrationnel positif Q'\n"
     ]
    }
   ],
   "source": [
    "# Classifier les nombres selon à quel ensemble ils appartiennent\n",
    "def plus_petit_ratio3(nombre):\n",
    "    b = 1\n",
    "    a = 1\n",
    "    compteur = 0\n",
    "    while (a/b) != nombre:\n",
    "        compteur += 1\n",
    "        if (a/b) < nombre:\n",
    "            a = a + 1\n",
    "        elif (a/b) > nombre:\n",
    "            b = b + 1\n",
    "        if compteur > 1000:\n",
    "            return -1, -1\n",
    "    return a, b\n",
    "\n",
    "def classificateur(nombre):\n",
    "    \n",
    "    if (nombre // 1) == nombre:\n",
    "        if nombre >= 0:\n",
    "            print('je suis un entier positif dans N')\n",
    "        elif nombre < 0:\n",
    "            print('je suis un entier négatif dans Z')\n",
    "            \n",
    "    else:\n",
    "        if nombre > 0:\n",
    "            a, b = plus_petit_ratio3(nombre)\n",
    "            if (a+b) == -2:\n",
    "                print(\"Je suis un nombre irrationnel positif Q'\")\n",
    "            else:\n",
    "                print('Je suis un nombre rationel positif Q')\n",
    "        elif nombre < 0:\n",
    "            a, b = plus_petit_ratio3(-nombre)\n",
    "            if (a+b) == -2:\n",
    "                print(\"Je suis un nombre irrationnel négatif Q'\")\n",
    "            else:\n",
    "                print('Je suis un nombre rationel négatif Q')\n",
    "        \n",
    "\n",
    "    "
   ]
  },
  {
   "cell_type": "markdown",
   "id": "72323311-8404-4223-8d27-ee42dd5c542d",
   "metadata": {},
   "source": [
    "### La notation exponentielle"
   ]
  },
  {
   "cell_type": "code",
   "execution_count": 60,
   "id": "59985d3c-5cd8-434f-a3ef-80fe2114f4fd",
   "metadata": {},
   "outputs": [
    {
     "data": {
      "text/plain": [
       "0.33333333333333337"
      ]
     },
     "execution_count": 60,
     "metadata": {},
     "output_type": "execute_result"
    }
   ],
   "source": [
    "# Faire un calculateur d'exposants (niveau 1)\n",
    "# Calcul les exposants de la forme (a/b)**(c/d)\n",
    "\n",
    "def calculateur_exposant(a, b, c, d):\n",
    "    return (a/b)**(c/d)\n",
    "\n",
    "calculateur_exposant(1, 27, 1, 3)\n",
    "\n",
    "# Changer la fonction pour être certain de pas avoir de résultat complexe"
   ]
  },
  {
   "cell_type": "markdown",
   "id": "52efe904-73ea-40b9-92ad-0e9255fd09c3",
   "metadata": {},
   "source": [
    "### Lois sur les exposants"
   ]
  },
  {
   "cell_type": "code",
   "execution_count": 15,
   "id": "1ed9da57-34a8-4094-a8c3-958529b31cb4",
   "metadata": {},
   "outputs": [
    {
     "data": {
      "text/plain": [
       "[2.00000000000000]"
      ]
     },
     "execution_count": 15,
     "metadata": {},
     "output_type": "execute_result"
    }
   ],
   "source": [
    "from sympy import symbols, Eq, solve\n",
    "# niveau 2\n",
    "\n",
    "x = symbols('x')\n",
    "\n",
    "# Equation : 0.96^7 = 0.96^2 * 0.96^x \n",
    "solve(Eq(0.96**7, 0.96**2 * 0.96**x))\n",
    "\n",
    "solve(Eq(1.15**4 / 1.15**2, 1.15**x))"
   ]
  },
  {
   "cell_type": "markdown",
   "id": "4378ad49-c1e1-49f6-801b-c49360f52c9d",
   "metadata": {},
   "source": [
    "### La notation scientifique"
   ]
  },
  {
   "cell_type": "code",
   "execution_count": 17,
   "id": "eecbd021-d692-4bdc-afc3-3e160f93cf79",
   "metadata": {},
   "outputs": [
    {
     "name": "stdout",
     "output_type": "stream",
     "text": [
      "602200000000000000000000\n"
     ]
    }
   ],
   "source": [
    "# Crée une fonction qui imprime un nombre selon sa notation exponentielle\n",
    "\n",
    "def expo_print(nombre, exposant):\n",
    "    # Transformer en lettres\n",
    "    nombre_lettres = str(nombre)\n",
    "    # enlever le point\n",
    "    nombre_lettres = nombre_lettres[0] + nombre_lettres[2:]\n",
    "    # ajouter les zéros\n",
    "    nombre_lettres = nombre_lettres + '0'*(exposant - len(nombre_lettres) + 1)\n",
    "    \n",
    "    print(nombre_lettres)\n",
    "\n",
    "expo_print(6.022, 23)"
   ]
  },
  {
   "cell_type": "markdown",
   "id": "bdd732cf-6953-47d3-ac9f-0cf946eedec2",
   "metadata": {},
   "source": [
    "### Les nombres cubiques et racines cubiques\n"
   ]
  },
  {
   "cell_type": "code",
   "execution_count": 34,
   "id": "c25566a6-cc14-4658-95b1-9dac5b983c7b",
   "metadata": {},
   "outputs": [],
   "source": [
    "# Faire un programme qui donne les n premières racines cubiques\n",
    "\n",
    "def racines_cubiques(n):\n",
    "    racines_trouvees = 0\n",
    "    nombre = 1\n",
    "    \n",
    "    while racines_trouvees < n:\n",
    "        \n",
    "        racine = nombre **(1/3)\n",
    "        \n",
    "        if abs(round(racine) -  racine) < 1e-6:\n",
    "            print('Voici un nombre cubique : ', nombre)\n",
    "            racines_trouvees = racines_trouvees + 1\n",
    "            nombre = nombre + 1\n",
    "        else:\n",
    "            nombre = nombre + 1\n",
    "\n",
    "            "
   ]
  },
  {
   "cell_type": "markdown",
   "id": "d09ab025-6f43-4cee-9678-9cc7a85a3aab",
   "metadata": {},
   "source": [
    "### Algèbre"
   ]
  },
  {
   "cell_type": "code",
   "execution_count": 26,
   "id": "2b504b33-18ee-4c23-a93a-c4b89db747a0",
   "metadata": {},
   "outputs": [],
   "source": [
    "# niveau 3\n",
    "\n",
    "def intersection(a1, b1, a2, b2):\n",
    "    if a1 == a2:\n",
    "        if b1 == b2:\n",
    "            print('droites parallèles confondues')\n",
    "        else:\n",
    "            print('droites parallèles disjointes')\n",
    "    else:\n",
    "        x = (b2 - b1) / (a1 - a2)\n",
    "        y = a1*x + b1\n",
    "        \n",
    "        if a1*a2 == -1:\n",
    "            print('droites perpendiculaires')\n",
    "            print('intersection : (', x,',', y, ')')\n",
    "        else:\n",
    "            print('droites sécantes')\n",
    "            print('intersection : (', x, ',',  y, ')')\n",
    "    \n",
    "    "
   ]
  },
  {
   "cell_type": "markdown",
   "id": "4e5e9909-aa56-4ecc-a6b6-5642bd57f4c6",
   "metadata": {},
   "source": [
    "### Factorisation"
   ]
  },
  {
   "cell_type": "code",
   "execution_count": 39,
   "id": "c34e7df4-97a8-42f9-85bd-34f1b5e925cb",
   "metadata": {},
   "outputs": [
    {
     "data": {
      "text/latex": [
       "$\\displaystyle 11 \\left(2 m - 5\\right)$"
      ],
      "text/plain": [
       "11*(2*m - 5)"
      ]
     },
     "execution_count": 39,
     "metadata": {},
     "output_type": "execute_result"
    }
   ],
   "source": [
    "from sympy import factor, symbols\n",
    "\n",
    "m = symbols('m')\n",
    "\n",
    "expression = 22*m - 55\n",
    "\n",
    "factor(expression)\n"
   ]
  },
  {
   "cell_type": "code",
   "execution_count": 40,
   "id": "2cab6e78-8e9c-4ee8-8354-b592c462d908",
   "metadata": {},
   "outputs": [],
   "source": [
    "def f(x):\n",
    "    y = 1/x\n",
    "    return y"
   ]
  },
  {
   "cell_type": "code",
   "execution_count": 41,
   "id": "0742d485-6633-4848-8af9-394891b90fe9",
   "metadata": {},
   "outputs": [],
   "source": [
    "import numpy as np\n",
    "import matplotlib.pyplot as plt\n",
    "\n",
    "def plot_function(f):\n",
    "    x = np.linspace(-1, 1)\n",
    "    y = f(x)\n",
    "    plt.plot(x, y)"
   ]
  },
  {
   "cell_type": "code",
   "execution_count": 44,
   "id": "97d98867-0af9-4890-82ad-45c1be5626fb",
   "metadata": {},
   "outputs": [
    {
     "data": {
      "image/png": "[encoded data removed]",
      "text/plain": [
       "<Figure size 432x288 with 1 Axes>"
      ]
     },
     "metadata": {
      "needs_background": "light"
     },
     "output_type": "display_data"
    }
   ],
   "source": [
    "f1 = lambda x: 2*x + 1\n",
    "f2 = lambda x: 2*x + 2\n",
    "f3 = lambda x: 2*x + 2\n",
    "\n",
    "\n",
    "\n",
    "plot_function(f1)\n",
    "plot_function(f2)\n"
   ]
  },
  {
   "cell_type": "code",
   "execution_count": null,
   "id": "626ab0d8-9b47-430f-9a08-6e5b9518d290",
   "metadata": {},
   "outputs": [],
   "source": []
  }
 ],
 "metadata": {
  "kernelspec": {
   "display_name": "Python 3 (ipykernel)",
   "language": "python",
   "name": "python3"
  },
  "language_info": {
   "codemirror_mode": {
    "name": "ipython",
    "version": 3
   },
   "file_extension": ".py",
   "mimetype": "text/x-python",
   "name": "python",
   "nbconvert_exporter": "python",
   "pygments_lexer": "ipython3",
   "version": "3.9.7"
  }
 },
 "nbformat": 4,
 "nbformat_minor": 5
}
