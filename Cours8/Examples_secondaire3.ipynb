{
 "cells": [
  {
   "cell_type": "markdown",
   "id": "abc0cde1-47ff-4cb2-9605-a34055e724d0",
   "metadata": {},
   "source": [
    "## Arithmétique\n",
    "\n",
    "### Nombre rationels"
   ]
  },
  {
   "cell_type": "code",
   "execution_count": 21,
   "id": "b6fc1489-9e48-4a54-a084-d7cf371fcd19",
   "metadata": {},
   "outputs": [
    {
     "name": "stdout",
     "output_type": "stream",
     "text": [
      "1547\n",
      "1250\n",
      "1.2376\n"
     ]
    }
   ],
   "source": [
    "# Étant donné un nombre rationnel trouver le plus petit ratio a/b permettant de l'exprimer\n",
    "\n",
    "nombre = 1.2376\n",
    "\n",
    "def plus_petit_ratio(nombre):\n",
    "    b = 1\n",
    "    a = 1\n",
    "    while (a/b) != nombre:\n",
    "        if (a/b) < nombre:\n",
    "            a = a + 1\n",
    "        elif (a/b) > nombre:\n",
    "            b = b + 1\n",
    "    return a, b\n",
    "        \n",
    "        \n",
    "a, b = plus_petit_ratio(nombre)   \n",
    "\n",
    "print(a)\n",
    "print(b)\n",
    "print(a/b)"
   ]
  },
  {
   "cell_type": "markdown",
   "id": "214f59e1-a6c5-4349-9b2f-2acf973a2a4e",
   "metadata": {},
   "source": [
    "### Nombre irrationnels"
   ]
  },
  {
   "cell_type": "code",
   "execution_count": 25,
   "id": "1f271b80-d9a0-446f-9c0c-070d10ac66fb",
   "metadata": {},
   "outputs": [
    {
     "name": "stdout",
     "output_type": "stream",
     "text": [
      "1.4142135623730951\n",
      "3.141592653589793\n"
     ]
    }
   ],
   "source": [
    "# Comment les nombres irrationels sont représentés par l'ordinateur\n",
    "# (nombre limité d'espace)\n",
    "print(2**(1/2))\n",
    "\n",
    "from math import pi\n",
    "print(pi)\n"
   ]
  },
  {
   "cell_type": "code",
   "execution_count": 42,
   "id": "4dbf3966-3f33-4fbb-bfa7-cf4308b3e075",
   "metadata": {},
   "outputs": [
    {
     "name": "stdout",
     "output_type": "stream",
     "text": [
      "Le nombre est probablement irrationnel\n",
      "761\n",
      "242\n",
      "3.144628099173554\n"
     ]
    }
   ],
   "source": [
    "# modifier la fonction précédente pour qu'elle donne un message d'erreur dans le cas ou le nombre\n",
    "# est irrationnel\n",
    "\n",
    "nombre = pi\n",
    "\n",
    "def plus_petit_ratio2(nombre):\n",
    "    b = 1\n",
    "    a = 1\n",
    "    compteur = 0\n",
    "    while (a/b) != nombre:\n",
    "        compteur += 1\n",
    "        if (a/b) < nombre:\n",
    "            a = a + 1\n",
    "        elif (a/b) > nombre:\n",
    "            b = b + 1\n",
    "        if compteur > 1000:\n",
    "            print('Le nombre est probablement irrationnel')\n",
    "            return a, b\n",
    "    return a, b\n",
    "        \n",
    "        \n",
    "a, b = plus_petit_ratio(nombre)   \n",
    "\n",
    "print(a)\n",
    "print(b)\n",
    "print(a/b)\n"
   ]
  },
  {
   "cell_type": "code",
   "execution_count": 29,
   "id": "e0262b2a-2c3f-4b90-b4ff-6164b293222c",
   "metadata": {},
   "outputs": [
    {
     "name": "stdout",
     "output_type": "stream",
     "text": [
      " le nombre 1 est plus grand \n"
     ]
    }
   ],
   "source": [
    "# Faire une fonction pour ordonner les nombre irrationnels\n",
    "\n",
    "def ordonner(nombre1, nombre2):\n",
    "    \n",
    "    if nombre1 > nombre2:\n",
    "        print(' le nombre 1 est plus grand ')\n",
    "    elif nombre1 < nombre2:\n",
    "        print(' le nombre 2 est plus grand ')\n",
    "    else:\n",
    "        print(' les nombres sont égaux')\n",
    "\n",
    "ordonner(pi, 2**(1/2))"
   ]
  },
  {
   "cell_type": "markdown",
   "id": "5c3850ed-1e6d-4f40-93b2-000fadb4b99e",
   "metadata": {},
   "source": [
    "### Ensembles de nombres"
   ]
  },
  {
   "cell_type": "code",
   "execution_count": 39,
   "id": "67a283c0-c232-49f3-898a-d5be4db2f614",
   "metadata": {},
   "outputs": [
    {
     "name": "stdout",
     "output_type": "stream",
     "text": [
      "[3, 5, 7, 9]\n",
      "[4, 8, 12, 16, 20, 24, 28, 32, 36, 40, 44, 48, 52, 56, 60, 64, 68, 72, 76, 80, 84, 88, 92, 96, 100]\n"
     ]
    }
   ],
   "source": [
    "# Exercice pour comprendre la fonction range() de python\n",
    "import numpy as np\n",
    "def range(*args):\n",
    "    return list(np.arange(*args))\n",
    "\n",
    "# L'ensemble des nombres naturels impairs compris entre 2 et 10.\n",
    "print(range(3, 10, 2))\n",
    "\n",
    "# L'ensemble des multiples de 4 compris entre  3 et  101.\n",
    "print(range(4, 101, 4))"
   ]
  },
  {
   "cell_type": "code",
   "execution_count": 43,
   "id": "5db5fc95-e5a2-4087-a036-2e16dda6a96e",
   "metadata": {},
   "outputs": [],
   "source": [
    "# Classifier les nombres selon à quel ensemble ils appartiennent\n",
    "\n",
    "def plus_petit_ratio3(nombre):\n",
    "    b = 1\n",
    "    a = 1\n",
    "    compteur = 0\n",
    "    while (a/b) != nombre:\n",
    "        compteur += 1\n",
    "        if (a/b) < nombre:\n",
    "            a = a + 1\n",
    "        elif (a/b) > nombre:\n",
    "            b = b + 1\n",
    "        if compteur > 1000:\n",
    "            return -1, -1\n",
    "    return a, b\n",
    "\n",
    "def classificateur(nombre):\n",
    "    \n",
    "    if (nombre // 1) == nombre:\n",
    "        if nombre >= 0:\n",
    "            print('je suis un entier positif dans N')\n",
    "        elif nombre < 0:\n",
    "            print('je suis un entier négatif dans Z')\n",
    "            \n",
    "    else:\n",
    "        if nombre > 0:\n",
    "            a, b = plus_petit_ratio3(nombre)\n",
    "            if (a+b) == -2:\n",
    "                print(\"Je suis un nombre irrationnel positif Q'\")\n",
    "            else:\n",
    "                print('Je suis un nombre rationel positif Q')\n",
    "        elif nombre < 0:\n",
    "            a, b = plus_petit_ratio3(-nombre)\n",
    "            if (a+b) == -2:\n",
    "                print(\"Je suis un nombre irrationnel négatif Q'\")\n",
    "            else:\n",
    "                print('Je suis un nombre rationel négatif Q')\n",
    "        \n",
    "\n",
    "        "
   ]
  },
  {
   "cell_type": "markdown",
   "id": "72323311-8404-4223-8d27-ee42dd5c542d",
   "metadata": {},
   "source": [
    "### La notation exponentielle"
   ]
  },
  {
   "cell_type": "code",
   "execution_count": 60,
   "id": "59985d3c-5cd8-434f-a3ef-80fe2114f4fd",
   "metadata": {},
   "outputs": [
    {
     "data": {
      "text/plain": [
       "0.33333333333333337"
      ]
     },
     "execution_count": 60,
     "metadata": {},
     "output_type": "execute_result"
    }
   ],
   "source": [
    "# Faire un calculateur d'exposants\n",
    "# Calcul les exposants de la forme (a/b)**(c/d)\n",
    "\n",
    "def calculateur_exposant(a, b, c, d):\n",
    "    \n",
    "    return (a/b)**(c/d)\n",
    "\n",
    "calculateur_exposant(1, 27, 1, 3)\n",
    "\n",
    "# Changer la fonction pour être certain de pas avoir de résultat complexe"
   ]
  },
  {
   "cell_type": "markdown",
   "id": "4378ad49-c1e1-49f6-801b-c49360f52c9d",
   "metadata": {},
   "source": [
    "### La notation scientifique"
   ]
  },
  {
   "cell_type": "code",
   "execution_count": 55,
   "id": "eecbd021-d692-4bdc-afc3-3e160f93cf79",
   "metadata": {},
   "outputs": [
    {
     "name": "stdout",
     "output_type": "stream",
     "text": [
      "602200000000000000000000\n"
     ]
    }
   ],
   "source": [
    "# Crée une fonction qui imprime un nombre selon sa notation exponentielle\n",
    "\n",
    "def expo_print(nombre, exposant):\n",
    "    # Transformer en lettres\n",
    "    nombre_lettres = str(nombre)\n",
    "    # enlever le point\n",
    "    nombre_lettres = nombre_lettres[:1] + nombre_lettres[2:]\n",
    "    # ajouter les zéros\n",
    "    nombre_lettres = nombre_lettres + '0'*(exposant - len(nombre_lettres) + 1)\n",
    "    \n",
    "    print(nombre_lettres)\n",
    "\n",
    "expo_print(6.022, 23)"
   ]
  },
  {
   "cell_type": "markdown",
   "id": "bdd732cf-6953-47d3-ac9f-0cf946eedec2",
   "metadata": {},
   "source": [
    "### Lois sur les exposants"
   ]
  },
  {
   "cell_type": "code",
   "execution_count": 74,
   "id": "63f01d48-fd19-4e7a-b46e-1d084623d47a",
   "metadata": {},
   "outputs": [
    {
     "data": {
      "text/latex": [
       "$\\displaystyle 5.0$"
      ],
      "text/plain": [
       "5.00000000000000"
      ]
     },
     "execution_count": 74,
     "metadata": {},
     "output_type": "execute_result"
    }
   ],
   "source": [
    "from sympy import *\n",
    "x = symbols('x')\n",
    "my_eq = Eq(0.96**7, 0.96**2 * 0.96**x)\n",
    "solve(my_eq)[0]"
   ]
  },
  {
   "cell_type": "code",
   "execution_count": null,
   "id": "c25566a6-cc14-4658-95b1-9dac5b983c7b",
   "metadata": {},
   "outputs": [],
   "source": []
  }
 ],
 "metadata": {
  "kernelspec": {
   "display_name": "Python 3 (ipykernel)",
   "language": "python",
   "name": "python3"
  },
  "language_info": {
   "codemirror_mode": {
    "name": "ipython",
    "version": 3
   },
   "file_extension": ".py",
   "mimetype": "text/x-python",
   "name": "python",
   "nbconvert_exporter": "python",
   "pygments_lexer": "ipython3",
   "version": "3.9.7"
  }
 },
 "nbformat": 4,
 "nbformat_minor": 5
}
