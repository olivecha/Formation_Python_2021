{
 "cells": [
  {
   "cell_type": "code",
   "execution_count": 1,
   "id": "b59e2cc5-5a4a-4dcd-929e-2c2d4c7864d4",
   "metadata": {},
   "outputs": [],
   "source": [
    "from support import *"
   ]
  },
  {
   "cell_type": "code",
   "execution_count": null,
   "id": "a9d352f5-ca97-45f9-a4c9-349c095dd72f",
   "metadata": {},
   "outputs": [],
   "source": []
  }
 ],
 "metadata": {
  "kernelspec": {
   "display_name": "Python 3 (ipykernel)",
   "language": "python",
   "name": "python3"
  },
  "language_info": {
   "codemirror_mode": {
    "name": "ipython",
    "version": 3
   },
   "file_extension": ".py",
   "mimetype": "text/x-python",
   "name": "python",
   "nbconvert_exporter": "python",
   "pygments_lexer": "ipython3",
   "version": "3.9.7"
  }
 },
 "nbformat": 4,
 "nbformat_minor": 5
}
