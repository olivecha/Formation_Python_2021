{
 "cells": [
  {
   "cell_type": "markdown",
   "metadata": {},
   "source": [
    "# Formation Python École Secondaire Pierre-Dupuy Séance 1\n",
    "**Olivier Chabot, 11 novembre 2021**\n",
    "\n",
    "### Exemple 1 : Les types numériques"
   ]
  },
  {
   "cell_type": "code",
   "execution_count": 35,
   "metadata": {},
   "outputs": [
    {
     "name": "stdout",
     "output_type": "stream",
     "text": [
      "2.0\n"
     ]
    },
    {
     "data": {
      "text/plain": [
       "float"
      ]
     },
     "execution_count": 35,
     "metadata": {},
     "output_type": "execute_result"
    }
   ],
   "source": [
    "a = 10\n",
    "b = 5\n",
    "c = a/b\n",
    "print(c)\n",
    "type(c)"
   ]
  },
  {
   "cell_type": "markdown",
   "metadata": {},
   "source": [
    "### Exemple 2 : Les chaines de caractères"
   ]
  },
  {
   "cell_type": "code",
   "execution_count": 52,
   "metadata": {},
   "outputs": [
    {
     "data": {
      "text/plain": [
       "'Bonjour chers enseignants'"
      ]
     },
     "execution_count": 52,
     "metadata": {},
     "output_type": "execute_result"
    }
   ],
   "source": [
    "chaine = \"Bonjour chers enseignants\"\n",
    "chaine"
   ]
  },
  {
   "cell_type": "code",
   "execution_count": 54,
   "metadata": {},
   "outputs": [
    {
     "data": {
      "text/plain": [
       "'Bonjour à toi Maxime'"
      ]
     },
     "execution_count": 54,
     "metadata": {},
     "output_type": "execute_result"
    }
   ],
   "source": [
    "nom = 'Maxime'\n",
    "chaine = 'Bonjour à toi ' + nom\n",
    "chaine"
   ]
  },
  {
   "cell_type": "code",
   "execution_count": 60,
   "metadata": {},
   "outputs": [
    {
     "name": "stdout",
     "output_type": "stream",
     "text": [
      "blablabla\n",
      "blablabla blablabla blablabla blablabla blablabla \n"
     ]
    }
   ],
   "source": [
    "chaine = 'bla'\n",
    "chaine = chaine*3\n",
    "print(chaine)\n",
    "print((chaine + ' ') * 5)"
   ]
  },
  {
   "cell_type": "markdown",
   "metadata": {},
   "source": [
    "### Exemple 3 : Listes et indexes"
   ]
  },
  {
   "cell_type": "code",
   "execution_count": 80,
   "metadata": {},
   "outputs": [
    {
     "name": "stdout",
     "output_type": "stream",
     "text": [
      "Premier :  1\n",
      "3ieme :  3\n",
      "Dernier :  10\n",
      "Avant dernier :  9\n"
     ]
    }
   ],
   "source": [
    "# Indexes simples d'une liste\n",
    "liste = [1, 2, 3, 4, 5, 6, 7, 8, 9, 10]\n",
    "print('Premier : ', liste[0])\n",
    "print('3ieme : ', liste[2])\n",
    "print('Dernier : ', liste[-1])\n",
    "print('Avant dernier : ', liste[-2])"
   ]
  },
  {
   "cell_type": "code",
   "execution_count": 91,
   "metadata": {},
   "outputs": [
    {
     "name": "stdout",
     "output_type": "stream",
     "text": [
      "Du premier au troisième :  [1, 2, 3]\n",
      "Du 5ième au dernier :  [5, 6, 7, 8, 9, 10]\n",
      "Du 2ième à l'avant dernier :  [2, 3, 4, 5, 6, 7, 8, 9]\n",
      "Du 1er au dernier en prenant un sur deux:  [1, 3, 5, 7, 9]\n"
     ]
    }
   ],
   "source": [
    "# Indexes 'slice' d'une liste\n",
    "liste = [1, 2, 3, 4, 5, 6, 7, 8, 9, 10]\n",
    "print('Du premier au troisième : ', liste[:3])\n",
    "print('Du 5ième au dernier : ', liste[4:])\n",
    "print('Du 2ième à l\\'avant dernier : ', liste[1:-1])\n",
    "print('Du 1er au dernier en prenant un sur deux: ', liste[::2])"
   ]
  },
  {
   "cell_type": "code",
   "execution_count": 92,
   "metadata": {},
   "outputs": [
    {
     "data": {
      "text/plain": [
       "['a', 2, 2.5, 'nom', 'test']"
      ]
     },
     "execution_count": 92,
     "metadata": {},
     "output_type": "execute_result"
    }
   ],
   "source": [
    "# Les listes peuvent contenir n'importe quel type\n",
    "liste = ['a', 2, 2.5, 'nom', 'test']\n",
    "liste"
   ]
  },
  {
   "cell_type": "code",
   "execution_count": 93,
   "metadata": {},
   "outputs": [
    {
     "data": {
      "text/plain": [
       "[[1, 2, 3], [3, 2, 1]]"
      ]
     },
     "execution_count": 93,
     "metadata": {},
     "output_type": "execute_result"
    }
   ],
   "source": [
    "# Même d'autres listes (jusqu'à l'infini)\n",
    "liste1 = [1, 2, 3]\n",
    "liste2 = [3, 2, 1]\n",
    "liste3 = [liste1, liste2]\n",
    "liste3"
   ]
  },
  {
   "cell_type": "code",
   "execution_count": 100,
   "metadata": {},
   "outputs": [
    {
     "name": "stdout",
     "output_type": "stream",
     "text": [
      "Premiere valeur de la première liste :  1\n",
      "Premiere valeur de la deuxième liste :  3\n",
      "Dernière valeur de la deuxième liste :  1\n"
     ]
    }
   ],
   "source": [
    "# Les index sur des listes composées se font de la liste extérieure à la liste intérieure\n",
    "print('Premiere valeur de la première liste : ', liste3[0][0])\n",
    "print('Premiere valeur de la deuxième liste : ', liste3[1][0])\n",
    "print('Dernière valeur de la deuxième liste : ', liste3[1][-1])"
   ]
  },
  {
   "cell_type": "code",
   "execution_count": 109,
   "metadata": {},
   "outputs": [
    {
     "data": {
      "text/plain": [
       "False"
      ]
     },
     "execution_count": 109,
     "metadata": {},
     "output_type": "execute_result"
    }
   ],
   "source": [
    "(3.0 / 10e-16) * 10e-16 == 3"
   ]
  },
  {
   "cell_type": "markdown",
   "metadata": {},
   "source": [
    "### Exemple 4 : Opérateurs booléens"
   ]
  },
  {
   "cell_type": "code",
   "execution_count": 120,
   "metadata": {},
   "outputs": [
    {
     "name": "stdout",
     "output_type": "stream",
     "text": [
      "3 < 2  :  False\n",
      "3 < 4  :  True\n",
      "3 == 3 :  True\n",
      "3 >= 3 :  True\n",
      "4 != 3 :  True\n"
     ]
    }
   ],
   "source": [
    "# Exemple D'opérateurs booléens\n",
    "print('3 < 2  : ', 3 < 2)\n",
    "print('3 < 4  : ', 3 < 4)\n",
    "print('3 == 3 : ', 3 == 3)\n",
    "print('3 >= 3 : ', 3 >= 3)\n",
    "print('4 != 3 : ', 4 != 3)"
   ]
  },
  {
   "cell_type": "code",
   "execution_count": 125,
   "metadata": {},
   "outputs": [
    {
     "name": "stdout",
     "output_type": "stream",
     "text": [
      "3.0 == 3.0 :  True\n",
      "(3.0 / eps) * eps == 3.0 :  False\n",
      "(3.0 / eps) * eps :  3.0000000000000004  (Précision machine)\n"
     ]
    }
   ],
   "source": [
    "# Le problème avec les floats et '==' :\n",
    "print('3.0 == 3.0 : ', 3.0 == 3.0)\n",
    "eps = 10e-16\n",
    "print('(3.0 / eps) * eps == 3.0 : ', (3.0 / eps) * eps == 3.0)\n",
    "print('(3.0 / eps) * eps : ', (3.0 / eps) * eps, ' (Précision machine)')"
   ]
  },
  {
   "cell_type": "markdown",
   "metadata": {},
   "source": [
    "### Quizz 1 : Expressions conditionnelles\n",
    "\n",
    "Pourquoi le script suivant n'affiche pas 'Le nombre est zéro' quand `number = 0` ?"
   ]
  },
  {
   "cell_type": "code",
   "execution_count": 128,
   "metadata": {},
   "outputs": [
    {
     "name": "stdout",
     "output_type": "stream",
     "text": [
      "Le nombre est pair\n"
     ]
    }
   ],
   "source": [
    "number = 0\n",
    "\n",
    "# Je suis évalué en premier\n",
    "if number % 2 == 0:\n",
    "    # Si la condition est vraie le segment suivant est exécuté et le code termine\n",
    "    print('Le nombre est pair')\n",
    "    \n",
    "elif number == 0:\n",
    "    # Si la condition est vraie le segment suivant est exécuté et le code termine\n",
    "    print('Le nombre est zéro')\n",
    "\n",
    "# Si TOUTES Les conditions précédents ne sont pas vraies le code qui suit est exécuté\n",
    "else:\n",
    "    print('Le nombre est impair')"
   ]
  },
  {
   "cell_type": "code",
   "execution_count": 133,
   "metadata": {},
   "outputs": [
    {
     "name": "stdout",
     "output_type": "stream",
     "text": [
      "It worked\n"
     ]
    }
   ],
   "source": [
    "# Les expressions if peuvent être combinées en ajoutant une tabulation :\n",
    "number = 1\n",
    "string = 'a'\n",
    "\n",
    "if number >= 1:\n",
    "    if string == 'b':\n",
    "        pass\n",
    "    elif string == 'a':\n",
    "        print('It worked')"
   ]
  },
  {
   "cell_type": "markdown",
   "metadata": {},
   "source": [
    "### Exemple 5 : La boucle `for`"
   ]
  },
  {
   "cell_type": "code",
   "execution_count": 144,
   "metadata": {},
   "outputs": [
    {
     "data": {
      "text/plain": [
       "8"
      ]
     },
     "execution_count": 144,
     "metadata": {},
     "output_type": "execute_result"
    }
   ],
   "source": [
    "# Instancier nos variables\n",
    "liste_de_nombres = [18, 4, 13, 8, 13, 13, 4, 16, 18, 10, 17, 15, 7, 5, 4]\n",
    "nombres_pairs = 0\n",
    "\n",
    "for nombre in liste_de_nombres:\n",
    "    if nombre % 2 == 0:\n",
    "        nombres_pairs += 1  # 'Increment operator'\n",
    "nombres_pairs"
   ]
  },
  {
   "cell_type": "code",
   "execution_count": 164,
   "metadata": {},
   "outputs": [
    {
     "data": {
      "text/plain": [
       "7"
      ]
     },
     "execution_count": 164,
     "metadata": {},
     "output_type": "execute_result"
    }
   ],
   "source": [
    "# N'importe quel itérateur peut être utilisé dans une boucle for\n",
    "phrase = \"Le Pape Jean-Paul II mange une pomme\"\n",
    "nombre_de_mots = 1\n",
    "\n",
    "for letter in phrase:\n",
    "    if letter == ' ':\n",
    "        nombre_de_mots +=1\n",
    "nombre_de_mots"
   ]
  },
  {
   "cell_type": "code",
   "execution_count": 159,
   "metadata": {},
   "outputs": [
    {
     "name": "stdout",
     "output_type": "stream",
     "text": [
      "[2, 8, 9, 3]\n",
      "[2, 3, 5, 5]\n",
      "[7, 5, 5, 1]\n",
      "[7, 9, 1, 2]\n"
     ]
    }
   ],
   "source": [
    "# Un exemple plus complexe : Créer une matrice aléatoire\n",
    "import random  # une librairie pour générer des valeurs aléatoires\n",
    "lignes = 4\n",
    "colonnes = 4\n",
    "ligne = [] # Une liste\n",
    "matrice = [] # Une liste\n",
    "\n",
    "# Creér la matrice\n",
    "for _ in range(lignes):  # range(5) = [0, 1, 2, 3, 4]\n",
    "    for _ in range(colonnes):  # _ : représente une variable qu'on est obliger de déclarer mais qu'on va pas utiliser\n",
    "        # Ajouter un chiffre aléatoire pour chaque colonne\n",
    "        nombre_aleatoire = random.randint(0, 10)  # Un nombre aléatoire entre 0 et 10\n",
    "        ligne.append(nombre_aleatoire)\n",
    "    # Ajouter la ligne à la matrice\n",
    "    matrice.append(ligne)\n",
    "    # créer une ligne vide\n",
    "    ligne = []\n",
    "    \n",
    "# imprimer la matrice ligne par ligne\n",
    "for ligne in matrice:\n",
    "    print(ligne)"
   ]
  },
  {
   "cell_type": "markdown",
   "metadata": {},
   "source": [
    "### Exemple 6 : Boucle `while`"
   ]
  },
  {
   "cell_type": "code",
   "execution_count": 168,
   "metadata": {},
   "outputs": [
    {
     "name": "stdout",
     "output_type": "stream",
     "text": [
      "8\n"
     ]
    },
    {
     "data": {
      "text/plain": [
       "True"
      ]
     },
     "execution_count": 168,
     "metadata": {},
     "output_type": "execute_result"
    }
   ],
   "source": [
    "# différence entre deux nombres\n",
    "nombre1 = 4\n",
    "nombre2 = 12\n",
    "compteur = 0\n",
    "\n",
    "while nombre1 < nombre2 :\n",
    "    nombre1 += 1\n",
    "    compteur += 1\n",
    "\n",
    "print(compteur)\n",
    "compteur  == (12 - 4)"
   ]
  },
  {
   "cell_type": "code",
   "execution_count": null,
   "metadata": {},
   "outputs": [],
   "source": [
    "# Programme qui imprime une phrase tant qu'on ne l'arrête pas\n",
    "\n",
    "while True:\n",
    "    print('Quand es-ce que ça s\\'arrête ?')"
   ]
  },
  {
   "cell_type": "code",
   "execution_count": 176,
   "metadata": {},
   "outputs": [
    {
     "name": "stdout",
     "output_type": "stream",
     "text": [
      "f(x) :  6.938893903907228e-12\n",
      "x :  0.00019073486328125\n"
     ]
    }
   ],
   "source": [
    "# Programme qui trouve le zéro du polynome y = x^3\n",
    "\n",
    "a = -100\n",
    "b = 200\n",
    "error = b - a\n",
    "\n",
    "while error > 0.001:\n",
    "    # point milieu\n",
    "    c = (b + a) / 2\n",
    "    # Polynôme au point milieu\n",
    "    y = c ** 3\n",
    "    # redéfinir l'interval\n",
    "    if y < 0 :\n",
    "        a = c\n",
    "    elif y > 0:\n",
    "        b = c\n",
    "    # Important de calculer le paramètre du while sinon la boucle va être infinie\n",
    "    error = b - a\n",
    "        \n",
    "print('f(x) : ', y)\n",
    "print('x : ', c)\n"
   ]
  },
  {
   "cell_type": "markdown",
   "metadata": {},
   "source": [
    "## Jeu 1 : Devine mon nombre"
   ]
  },
  {
   "cell_type": "code",
   "execution_count": 182,
   "metadata": {},
   "outputs": [
    {
     "name": "stdout",
     "output_type": "stream",
     "text": [
      "Bienvenue à devine le nombre entre 0 et 10!\n"
     ]
    },
    {
     "name": "stdin",
     "output_type": "stream",
     "text": [
      "Entrer votre tentative :  10\n"
     ]
    },
    {
     "name": "stdout",
     "output_type": "stream",
     "text": [
      "Votre nombre est trop haut\n"
     ]
    },
    {
     "name": "stdin",
     "output_type": "stream",
     "text": [
      "Entrer votre tentative :  6\n"
     ]
    },
    {
     "name": "stdout",
     "output_type": "stream",
     "text": [
      "Félicitation vous avez réussi\n"
     ]
    }
   ],
   "source": [
    "import random\n",
    "\n",
    "print('Bienvenue à devine le nombre entre 0 et 10!')\n",
    "nombre = random.randint(0, 10)\n",
    "nombre_utilisateur = -1  # Un nombre impossible d'être égal au nombre de l'ordinateur\n",
    "\n",
    "while nombre_utilisateur != nombre:\n",
    "    # Les 'input' sont toujours des strings alors on les transforme en 'int'\n",
    "    nombre_utilisateur = int(input(\"Entrer votre tentative : \"))\n",
    "    \n",
    "    if nombre_utilisateur > nombre:\n",
    "        print('Votre nombre est trop haut')\n",
    "    elif nombre_utilisateur < nombre:\n",
    "        print('Votre nombre est trop bas')\n",
    "        \n",
    "# Le else statement s'exécute à la fin de la boucle while\n",
    "else:\n",
    "    print('Félicitation vous avez réussi')\n",
    "    "
   ]
  }
 ],
 "metadata": {
  "kernelspec": {
   "display_name": "Python 3",
   "language": "python",
   "name": "python3"
  },
  "language_info": {
   "codemirror_mode": {
    "name": "ipython",
    "version": 3
   },
   "file_extension": ".py",
   "mimetype": "text/x-python",
   "name": "python",
   "nbconvert_exporter": "python",
   "pygments_lexer": "ipython3",
   "version": "3.8.5"
  }
 },
 "nbformat": 4,
 "nbformat_minor": 4
}
