{
 "cells": [
  {
   "cell_type": "markdown",
   "metadata": {},
   "source": [
    "# Formation Python École Secondaire Pierre-Dupuy Séance 2\n",
    "## Exercices séance 2\n",
    "**Olivier Chabot, 17 novembre 2021**\n",
    "\n",
    "### Exercices 1 : Révision structure `if`"
   ]
  },
  {
   "cell_type": "code",
   "execution_count": null,
   "metadata": {},
   "outputs": [],
   "source": [
    "# 1.1 Complétez le code et validez en changeant la valeur du nombre\n",
    "# Remplacez les ______ par des conditions \n",
    "nombre = 11\n",
    "\n",
    "if _____ :\n",
    "    print('Le nombre est plus grand que 10')\n",
    "    \n",
    "elif _____ :\n",
    "    print('Le nombre est plus petit que 10')\n",
    "    \n",
    "else:\n",
    "    print('Le nombre est égal à 10')\n",
    "\n"
   ]
  },
  {
   "cell_type": "code",
   "execution_count": null,
   "metadata": {},
   "outputs": [],
   "source": [
    "# 1.2 Prise de présences : Dire si le nom d'un élève est dans une liste\n",
    "# Remplacer les _____ par les variables appropriées\n",
    "liste_des_eleves = ['Maxime', 'Damien', 'Camille', 'Daphnée', 'Margerite', 'Julien']\n",
    "eleve = 'Maxime'\n",
    "\n",
    "if _____ in ______________ :\n",
    "    print('Inscrit')\n",
    "    \n",
    "else :\n",
    "    print('Pas inscrit')"
   ]
  },
  {
   "cell_type": "code",
   "execution_count": null,
   "metadata": {},
   "outputs": [],
   "source": [
    "# 1.3 Jean-Émile veut écrire une chanson mais la lettre 'i' de son clavier est brisée :\n",
    "# Complétez le code afin qu'il puisse valider rapidement si un mot contient la lettre i\n",
    "\n",
    "mot = 'rivière'\n",
    "\n",
    "if ___ in ____ :\n",
    "    print('Le mot contient i ')\n",
    "    \n",
    "else:\n",
    "    print('Le mot peut être écrit')\n"
   ]
  },
  {
   "cell_type": "code",
   "execution_count": null,
   "metadata": {},
   "outputs": [],
   "source": [
    "# 1.4 Complétez le code afin de faire un programme qui transforme les nombre en lettres\n",
    "# Le programme fonctionne seulement pour les chiffres plus petits que 5 :\n",
    "\n",
    "chiffre = 3\n",
    "\n",
    "if _____ == _ :\n",
    "    print('zéro')\n",
    "    \n",
    "elif _____ == _ :\n",
    "    print('un')\n",
    "    \n",
    "elif ______ == _ :\n",
    "    print('deux')\n",
    "    \n",
    "elif ______ == _ :\n",
    "    print('trois')\n",
    "    \n",
    "elif ______ == _ :\n",
    "    print('quatre')\n",
    "    \n",
    "elif ______ < _ :\n",
    "    print('Erreur le chiffre est négatif')\n",
    "    \n",
    "else:\n",
    "    print('Erreur le chiffre est trop grand')\n"
   ]
  },
  {
   "cell_type": "code",
   "execution_count": null,
   "metadata": {},
   "outputs": [],
   "source": [
    "# 1.5 Sauvez des lignes : En considérant le problème précédent et les deux variables suivantes\n",
    "# Réécrire le même programme en utilisant moins de lignes\n",
    "nombres_en_lettres = ['zero', 'un', 'deux', 'trois', 'quatre']\n",
    "nombre = 3\n",
    "\n",
    "if ______ >= 0 :\n",
    "    \n",
    "    if ______ < 5 :\n",
    "        print(______________[_______])\n",
    "    \n",
    "    else:\n",
    "        print('Le nombre est trop grand')\n",
    "        \n",
    "else:\n",
    "    print('Le nombre est négatif')\n",
    "        "
   ]
  },
  {
   "cell_type": "markdown",
   "metadata": {},
   "source": [
    "### Exercices 2 : Les boucles `for`"
   ]
  },
  {
   "cell_type": "code",
   "execution_count": null,
   "metadata": {},
   "outputs": [],
   "source": [
    "# 2.1 complétez le code afin imprimer chaque nom dans un liste :\n",
    "liste_des_eleves = ['Maxime', 'Damien', 'Camille', 'Daphnée', 'Margerite', 'Julien']\n",
    "\n",
    "for _____ in liste_des_eleves:\n",
    "    print(_____)"
   ]
  },
  {
   "cell_type": "code",
   "execution_count": null,
   "metadata": {},
   "outputs": [],
   "source": [
    "# 2.2 complétez le code afin d'imprimer les valeurs comme des pourcentages\n",
    "valeurs = [0.66, 0.89, 0.54, 0.78, 0.67]\n",
    "\n",
    "for _____ in ________:\n",
    "    print(______ * 100, ' %')"
   ]
  },
  {
   "cell_type": "code",
   "execution_count": null,
   "metadata": {},
   "outputs": [],
   "source": [
    "# 2.3 Prise des présences : Avec une liste des élèves présents et une liste d'élèves inscrits trouver\n",
    "# quels élèves sont absents.\n",
    "eleves_inscrits = ['Maxime', 'Damien', 'Camille', 'Daphnée', 'Margerite', 'Julien', 'Sol', 'Jean-Paul',\n",
    "                   'Samuel', 'Émilie', 'Rose', 'Annabelle']\n",
    "eleves_presents = ['Margerite', 'Julien', 'Sol', 'Jean-Paul','Samuel', 'Émilie', 'Rose', 'Annabelle']\n",
    "\n",
    "# Itération sur tout les éleves inscrits\n",
    "for _____ in ___________:\n",
    "    \n",
    "    # Vérifier si l'éleve inscrit est présent\n",
    "    if ____ in ____________:\n",
    "        print(____, 'Est présent')\n",
    "        \n",
    "    else :\n",
    "        print(_____, 'Est absent')\n",
    "        \n",
    "        "
   ]
  },
  {
   "cell_type": "code",
   "execution_count": null,
   "metadata": {},
   "outputs": [],
   "source": [
    "# 2.4 Effectuer la somme des valeurs d'une liste\n",
    "liste = [1, 4, 3, 5, 6, 4, 9]\n",
    "somme = 0\n",
    "\n",
    "for _____ in _____:\n",
    "    _____ = somme + _____\n",
    "    \n",
    "print(somme)"
   ]
  },
  {
   "cell_type": "code",
   "execution_count": 15,
   "metadata": {},
   "outputs": [
    {
     "data": {
      "text/plain": [
       "[[2, 12, 4, 4, 14],\n",
       " [5, 30, 10, 10, 35],\n",
       " [3, 18, 6, 6, 21],\n",
       " [1, 6, 2, 2, 7],\n",
       " [4, 24, 8, 8, 28]]"
      ]
     },
     "execution_count": 15,
     "metadata": {},
     "output_type": "execute_result"
    }
   ],
   "source": [
    "# 2.5 (Bonus) Produit matriciel de deux vecteurs\n",
    "# Voir plus bas\n",
    "\n",
    "v1 = [2, 5, 3, 1, 4]\n",
    "v2 = [1, 6, 2, 2, 7]\n",
    "n = 5  # Longeur des vecteurs\n",
    "M = [] # Résultat du produit\n",
    "\n",
    "for ___ in v1:\n",
    "    ligne = []\n",
    "    for ___ in v2:\n",
    "        ligne = ligne + [_______]\n",
    "    M = M + [ligne]\n",
    "    \n",
    "print(M)"
   ]
  },
  {
   "cell_type": "markdown",
   "metadata": {},
   "source": [
    "**Produit matriciel de deux vecteurs**\n",
    "\n",
    "$v_1$ : Un vecteur à n composantes\n",
    "\n",
    "$v_2$ : Un vecteur à n composantes\n",
    "\n",
    "$M$ : La matrice résultant du produit\n",
    "\n",
    "$M_{ij} = v_{1i} \\; v_{2j}$\n"
   ]
  },
  {
   "cell_type": "code",
   "execution_count": null,
   "metadata": {},
   "outputs": [],
   "source": []
  }
 ],
 "metadata": {
  "kernelspec": {
   "display_name": "Python 3 (ipykernel)",
   "language": "python",
   "name": "python3"
  },
  "language_info": {
   "codemirror_mode": {
    "name": "ipython",
    "version": 3
   },
   "file_extension": ".py",
   "mimetype": "text/x-python",
   "name": "python",
   "nbconvert_exporter": "python",
   "pygments_lexer": "ipython3",
   "version": "3.8.12"
  }
 },
 "nbformat": 4,
 "nbformat_minor": 4
}
