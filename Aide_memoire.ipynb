{
 "cells": [
  {
   "cell_type": "markdown",
   "id": "d5f4c9c3-2318-4154-8a1c-7741b8ea1b95",
   "metadata": {},
   "source": [
    "# Formation python pour enseignement\n",
    "## Aide mémoire\n",
    "**Olivier chabot 2021-2022**\n",
    "\n",
    "# 1. Les types dans python\n",
    "\n",
    "## 1.1 Les types représentant des chiffres\n",
    "\n",
    "- Le type `int` représente les nombres entiers. \n",
    "- Le type `float` représent les nombres à virgules\n",
    "\n",
    "Par exemple : Le résultat d'une division entre deux types `int` donne toujours un `float`\n",
    "```python\n",
    ">>> type(2) \n",
    ">>> int\n",
    ">>> type(4/2)\n",
    ">>> float\n",
    "```\n",
    "\n",
    "## 1.2 Le type booléen\n",
    "\n",
    "Dans python, la valeur vraie ou faux (`True`, `False`) est enregistrée dans un type booléen.\n",
    "Le type booléen est le résultat d'un opérateur booléen :\n",
    "```python\n",
    ">>> print(3 > 2)\n",
    ">>> True\n",
    ">>> type(True)\n",
    ">>> bool\n",
    "```\n",
    "Les opérateurs boolens de base sont les suivants :\n",
    "\n",
    "\n",
    "## 1.3 Les listes\n",
    "\n",
    "## 1.4 Les chaines de caractères\n",
    "\n",
    "- Les chaines de caractères `string` sont représentées par des guillemets : `ma_chaine = 'abc'`\n",
    "- Les espaces sont traités comme des caractères : `ma_chaine = 'mot1 mot2 mot3'` est une seule chaine\n",
    "- Les chaines sont utiles pour enregistrer du texte, des identifiants et générer des messages pour l'utilisateur d'un programme.\n",
    "```python\n",
    ">>> type('abcdefg')\n",
    ">>> str\n",
    "```\n",
    "\n"
   ]
  },
  {
   "cell_type": "code",
   "execution_count": null,
   "id": "7c74beec-f5c3-4def-a36b-1fcd8f78992f",
   "metadata": {},
   "outputs": [],
   "source": []
  }
 ],
 "metadata": {
  "kernelspec": {
   "display_name": "Python 3 (ipykernel)",
   "language": "python",
   "name": "python3"
  },
  "language_info": {
   "codemirror_mode": {
    "name": "ipython",
    "version": 3
   },
   "file_extension": ".py",
   "mimetype": "text/x-python",
   "name": "python",
   "nbconvert_exporter": "python",
   "pygments_lexer": "ipython3",
   "version": "3.9.7"
  }
 },
 "nbformat": 4,
 "nbformat_minor": 5
}
